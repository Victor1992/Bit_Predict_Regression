{
  "nbformat": 4,
  "nbformat_minor": 0,
  "metadata": {
    "colab": {
      "name": "bit_predict_time_series_forecasting_with_tensorflow.ipynb",
      "provenance": [],
      "collapsed_sections": [],
      "authorship_tag": "ABX9TyO7dFhgRrviPr89BcbJ+41Y",
      "include_colab_link": true
    },
    "kernelspec": {
      "name": "python3",
      "display_name": "Python 3"
    },
    "language_info": {
      "name": "python"
    }
  },
  "cells": [
    {
      "cell_type": "markdown",
      "metadata": {
        "id": "view-in-github",
        "colab_type": "text"
      },
      "source": [
        "<a href=\"https://colab.research.google.com/github/Victor1992/Bit_Predict_Regression/blob/main/bit_predict_time_series_forecasting_with_tensorflow.ipynb\" target=\"_parent\"><img src=\"https://colab.research.google.com/assets/colab-badge.svg\" alt=\"Open In Colab\"/></a>"
      ]
    },
    {
      "cell_type": "markdown",
      "source": [
        "# Time Series forecating funcdamentals with tensorflow : Bit Predict"
      ],
      "metadata": {
        "id": "6rXM89ilZMu3"
      }
    },
    {
      "cell_type": "markdown",
      "source": [
        "## Importing time series data with pandas\n",
        "\n"
      ],
      "metadata": {
        "id": "DPf7a9VnZkK8"
      }
    },
    {
      "cell_type": "code",
      "source": [
        "import pandas as pd\n",
        "\n"
      ],
      "metadata": {
        "id": "8iNYAH58bKSO"
      },
      "execution_count": 1,
      "outputs": []
    },
    {
      "cell_type": "code",
      "source": [
        "df = pd.read_csv(\"/content/sample_data/BTC_USD_2014-11-04_2022-01-10-CoinDesk.csv\",\n",
        "                 parse_dates=[\"Date\"],\n",
        "                 index_col=[\"Date\"])\n",
        "df.head()"
      ],
      "metadata": {
        "colab": {
          "base_uri": "https://localhost:8080/",
          "height": 237
        },
        "id": "fK6kEaDobLhH",
        "outputId": "ce2604ff-7eb7-4bfb-f4f6-9765437e7381"
      },
      "execution_count": 2,
      "outputs": [
        {
          "output_type": "execute_result",
          "data": {
            "text/html": [
              "\n",
              "  <div id=\"df-aed7c91f-830a-4565-b231-8165936e6514\">\n",
              "    <div class=\"colab-df-container\">\n",
              "      <div>\n",
              "<style scoped>\n",
              "    .dataframe tbody tr th:only-of-type {\n",
              "        vertical-align: middle;\n",
              "    }\n",
              "\n",
              "    .dataframe tbody tr th {\n",
              "        vertical-align: top;\n",
              "    }\n",
              "\n",
              "    .dataframe thead th {\n",
              "        text-align: right;\n",
              "    }\n",
              "</style>\n",
              "<table border=\"1\" class=\"dataframe\">\n",
              "  <thead>\n",
              "    <tr style=\"text-align: right;\">\n",
              "      <th></th>\n",
              "      <th>Currency</th>\n",
              "      <th>Closing Price (USD)</th>\n",
              "      <th>24h Open (USD)</th>\n",
              "      <th>24h High (USD)</th>\n",
              "      <th>24h Low (USD)</th>\n",
              "    </tr>\n",
              "    <tr>\n",
              "      <th>Date</th>\n",
              "      <th></th>\n",
              "      <th></th>\n",
              "      <th></th>\n",
              "      <th></th>\n",
              "      <th></th>\n",
              "    </tr>\n",
              "  </thead>\n",
              "  <tbody>\n",
              "    <tr>\n",
              "      <th>2014-11-04</th>\n",
              "      <td>BTC</td>\n",
              "      <td>324.467934</td>\n",
              "      <td>323.826186</td>\n",
              "      <td>333.539527</td>\n",
              "      <td>323.106623</td>\n",
              "    </tr>\n",
              "    <tr>\n",
              "      <th>2014-11-05</th>\n",
              "      <td>BTC</td>\n",
              "      <td>328.644408</td>\n",
              "      <td>324.424164</td>\n",
              "      <td>330.671610</td>\n",
              "      <td>320.902900</td>\n",
              "    </tr>\n",
              "    <tr>\n",
              "      <th>2014-11-06</th>\n",
              "      <td>BTC</td>\n",
              "      <td>337.921358</td>\n",
              "      <td>328.653046</td>\n",
              "      <td>342.384170</td>\n",
              "      <td>328.597125</td>\n",
              "    </tr>\n",
              "    <tr>\n",
              "      <th>2014-11-07</th>\n",
              "      <td>BTC</td>\n",
              "      <td>348.992860</td>\n",
              "      <td>337.921358</td>\n",
              "      <td>352.585895</td>\n",
              "      <td>336.236830</td>\n",
              "    </tr>\n",
              "    <tr>\n",
              "      <th>2014-11-08</th>\n",
              "      <td>BTC</td>\n",
              "      <td>341.459753</td>\n",
              "      <td>348.992860</td>\n",
              "      <td>351.651854</td>\n",
              "      <td>340.196145</td>\n",
              "    </tr>\n",
              "  </tbody>\n",
              "</table>\n",
              "</div>\n",
              "      <button class=\"colab-df-convert\" onclick=\"convertToInteractive('df-aed7c91f-830a-4565-b231-8165936e6514')\"\n",
              "              title=\"Convert this dataframe to an interactive table.\"\n",
              "              style=\"display:none;\">\n",
              "        \n",
              "  <svg xmlns=\"http://www.w3.org/2000/svg\" height=\"24px\"viewBox=\"0 0 24 24\"\n",
              "       width=\"24px\">\n",
              "    <path d=\"M0 0h24v24H0V0z\" fill=\"none\"/>\n",
              "    <path d=\"M18.56 5.44l.94 2.06.94-2.06 2.06-.94-2.06-.94-.94-2.06-.94 2.06-2.06.94zm-11 1L8.5 8.5l.94-2.06 2.06-.94-2.06-.94L8.5 2.5l-.94 2.06-2.06.94zm10 10l.94 2.06.94-2.06 2.06-.94-2.06-.94-.94-2.06-.94 2.06-2.06.94z\"/><path d=\"M17.41 7.96l-1.37-1.37c-.4-.4-.92-.59-1.43-.59-.52 0-1.04.2-1.43.59L10.3 9.45l-7.72 7.72c-.78.78-.78 2.05 0 2.83L4 21.41c.39.39.9.59 1.41.59.51 0 1.02-.2 1.41-.59l7.78-7.78 2.81-2.81c.8-.78.8-2.07 0-2.86zM5.41 20L4 18.59l7.72-7.72 1.47 1.35L5.41 20z\"/>\n",
              "  </svg>\n",
              "      </button>\n",
              "      \n",
              "  <style>\n",
              "    .colab-df-container {\n",
              "      display:flex;\n",
              "      flex-wrap:wrap;\n",
              "      gap: 12px;\n",
              "    }\n",
              "\n",
              "    .colab-df-convert {\n",
              "      background-color: #E8F0FE;\n",
              "      border: none;\n",
              "      border-radius: 50%;\n",
              "      cursor: pointer;\n",
              "      display: none;\n",
              "      fill: #1967D2;\n",
              "      height: 32px;\n",
              "      padding: 0 0 0 0;\n",
              "      width: 32px;\n",
              "    }\n",
              "\n",
              "    .colab-df-convert:hover {\n",
              "      background-color: #E2EBFA;\n",
              "      box-shadow: 0px 1px 2px rgba(60, 64, 67, 0.3), 0px 1px 3px 1px rgba(60, 64, 67, 0.15);\n",
              "      fill: #174EA6;\n",
              "    }\n",
              "\n",
              "    [theme=dark] .colab-df-convert {\n",
              "      background-color: #3B4455;\n",
              "      fill: #D2E3FC;\n",
              "    }\n",
              "\n",
              "    [theme=dark] .colab-df-convert:hover {\n",
              "      background-color: #434B5C;\n",
              "      box-shadow: 0px 1px 3px 1px rgba(0, 0, 0, 0.15);\n",
              "      filter: drop-shadow(0px 1px 2px rgba(0, 0, 0, 0.3));\n",
              "      fill: #FFFFFF;\n",
              "    }\n",
              "  </style>\n",
              "\n",
              "      <script>\n",
              "        const buttonEl =\n",
              "          document.querySelector('#df-aed7c91f-830a-4565-b231-8165936e6514 button.colab-df-convert');\n",
              "        buttonEl.style.display =\n",
              "          google.colab.kernel.accessAllowed ? 'block' : 'none';\n",
              "\n",
              "        async function convertToInteractive(key) {\n",
              "          const element = document.querySelector('#df-aed7c91f-830a-4565-b231-8165936e6514');\n",
              "          const dataTable =\n",
              "            await google.colab.kernel.invokeFunction('convertToInteractive',\n",
              "                                                     [key], {});\n",
              "          if (!dataTable) return;\n",
              "\n",
              "          const docLinkHtml = 'Like what you see? Visit the ' +\n",
              "            '<a target=\"_blank\" href=https://colab.research.google.com/notebooks/data_table.ipynb>data table notebook</a>'\n",
              "            + ' to learn more about interactive tables.';\n",
              "          element.innerHTML = '';\n",
              "          dataTable['output_type'] = 'display_data';\n",
              "          await google.colab.output.renderOutput(dataTable, element);\n",
              "          const docLink = document.createElement('div');\n",
              "          docLink.innerHTML = docLinkHtml;\n",
              "          element.appendChild(docLink);\n",
              "        }\n",
              "      </script>\n",
              "    </div>\n",
              "  </div>\n",
              "  "
            ],
            "text/plain": [
              "           Currency  Closing Price (USD)  ...  24h High (USD)  24h Low (USD)\n",
              "Date                                      ...                               \n",
              "2014-11-04      BTC           324.467934  ...      333.539527     323.106623\n",
              "2014-11-05      BTC           328.644408  ...      330.671610     320.902900\n",
              "2014-11-06      BTC           337.921358  ...      342.384170     328.597125\n",
              "2014-11-07      BTC           348.992860  ...      352.585895     336.236830\n",
              "2014-11-08      BTC           341.459753  ...      351.651854     340.196145\n",
              "\n",
              "[5 rows x 5 columns]"
            ]
          },
          "metadata": {},
          "execution_count": 2
        }
      ]
    },
    {
      "cell_type": "code",
      "source": [
        "df.info()"
      ],
      "metadata": {
        "colab": {
          "base_uri": "https://localhost:8080/"
        },
        "id": "cw_zi2CrbcC7",
        "outputId": "2c42e394-0c8e-4539-8301-4c852fa3a26c"
      },
      "execution_count": 3,
      "outputs": [
        {
          "output_type": "stream",
          "name": "stdout",
          "text": [
            "<class 'pandas.core.frame.DataFrame'>\n",
            "DatetimeIndex: 2625 entries, 2014-11-04 to 2022-01-10\n",
            "Data columns (total 5 columns):\n",
            " #   Column               Non-Null Count  Dtype  \n",
            "---  ------               --------------  -----  \n",
            " 0   Currency             2625 non-null   object \n",
            " 1   Closing Price (USD)  2625 non-null   float64\n",
            " 2   24h Open (USD)       2625 non-null   float64\n",
            " 3   24h High (USD)       2625 non-null   float64\n",
            " 4   24h Low (USD)        2625 non-null   float64\n",
            "dtypes: float64(4), object(1)\n",
            "memory usage: 123.0+ KB\n"
          ]
        }
      ]
    },
    {
      "cell_type": "markdown",
      "source": [
        "`Note: Numpy likes data in float64, tensprflow likes the data in float32`"
      ],
      "metadata": {
        "id": "k3sPCnDFbj6J"
      }
    },
    {
      "cell_type": "code",
      "source": [
        "# How many samples  do we have ?\n",
        "len(df)"
      ],
      "metadata": {
        "colab": {
          "base_uri": "https://localhost:8080/"
        },
        "id": "cIbZVS-Db9a7",
        "outputId": "d66e75e8-6c29-49c7-e787-9fddd2f36a21"
      },
      "execution_count": 4,
      "outputs": [
        {
          "output_type": "execute_result",
          "data": {
            "text/plain": [
              "2625"
            ]
          },
          "metadata": {},
          "execution_count": 4
        }
      ]
    },
    {
      "cell_type": "code",
      "source": [
        "8 * 365 # around 8 years of data we have"
      ],
      "metadata": {
        "colab": {
          "base_uri": "https://localhost:8080/"
        },
        "id": "12gjyh5vcGqx",
        "outputId": "a1901d64-9072-430f-d100-50b486609ab4"
      },
      "execution_count": 5,
      "outputs": [
        {
          "output_type": "execute_result",
          "data": {
            "text/plain": [
              "2920"
            ]
          },
          "metadata": {},
          "execution_count": 5
        }
      ]
    },
    {
      "cell_type": "code",
      "source": [
        "# Only want closing price for each day\n",
        "\n",
        "bitcoin_prices = pd.DataFrame(df[\"Closing Price (USD)\"]).rename(columns={\"Closing Price (USD)\": \"Price\"})\n",
        "bitcoin_prices.head()"
      ],
      "metadata": {
        "colab": {
          "base_uri": "https://localhost:8080/",
          "height": 237
        },
        "id": "xPtPOphVcTi1",
        "outputId": "98f43729-7efe-4fd8-ca7e-3d9ff277f51a"
      },
      "execution_count": 6,
      "outputs": [
        {
          "output_type": "execute_result",
          "data": {
            "text/html": [
              "\n",
              "  <div id=\"df-50f1646e-42a9-4a94-bfb4-dfcaabd29985\">\n",
              "    <div class=\"colab-df-container\">\n",
              "      <div>\n",
              "<style scoped>\n",
              "    .dataframe tbody tr th:only-of-type {\n",
              "        vertical-align: middle;\n",
              "    }\n",
              "\n",
              "    .dataframe tbody tr th {\n",
              "        vertical-align: top;\n",
              "    }\n",
              "\n",
              "    .dataframe thead th {\n",
              "        text-align: right;\n",
              "    }\n",
              "</style>\n",
              "<table border=\"1\" class=\"dataframe\">\n",
              "  <thead>\n",
              "    <tr style=\"text-align: right;\">\n",
              "      <th></th>\n",
              "      <th>Price</th>\n",
              "    </tr>\n",
              "    <tr>\n",
              "      <th>Date</th>\n",
              "      <th></th>\n",
              "    </tr>\n",
              "  </thead>\n",
              "  <tbody>\n",
              "    <tr>\n",
              "      <th>2014-11-04</th>\n",
              "      <td>324.467934</td>\n",
              "    </tr>\n",
              "    <tr>\n",
              "      <th>2014-11-05</th>\n",
              "      <td>328.644408</td>\n",
              "    </tr>\n",
              "    <tr>\n",
              "      <th>2014-11-06</th>\n",
              "      <td>337.921358</td>\n",
              "    </tr>\n",
              "    <tr>\n",
              "      <th>2014-11-07</th>\n",
              "      <td>348.992860</td>\n",
              "    </tr>\n",
              "    <tr>\n",
              "      <th>2014-11-08</th>\n",
              "      <td>341.459753</td>\n",
              "    </tr>\n",
              "  </tbody>\n",
              "</table>\n",
              "</div>\n",
              "      <button class=\"colab-df-convert\" onclick=\"convertToInteractive('df-50f1646e-42a9-4a94-bfb4-dfcaabd29985')\"\n",
              "              title=\"Convert this dataframe to an interactive table.\"\n",
              "              style=\"display:none;\">\n",
              "        \n",
              "  <svg xmlns=\"http://www.w3.org/2000/svg\" height=\"24px\"viewBox=\"0 0 24 24\"\n",
              "       width=\"24px\">\n",
              "    <path d=\"M0 0h24v24H0V0z\" fill=\"none\"/>\n",
              "    <path d=\"M18.56 5.44l.94 2.06.94-2.06 2.06-.94-2.06-.94-.94-2.06-.94 2.06-2.06.94zm-11 1L8.5 8.5l.94-2.06 2.06-.94-2.06-.94L8.5 2.5l-.94 2.06-2.06.94zm10 10l.94 2.06.94-2.06 2.06-.94-2.06-.94-.94-2.06-.94 2.06-2.06.94z\"/><path d=\"M17.41 7.96l-1.37-1.37c-.4-.4-.92-.59-1.43-.59-.52 0-1.04.2-1.43.59L10.3 9.45l-7.72 7.72c-.78.78-.78 2.05 0 2.83L4 21.41c.39.39.9.59 1.41.59.51 0 1.02-.2 1.41-.59l7.78-7.78 2.81-2.81c.8-.78.8-2.07 0-2.86zM5.41 20L4 18.59l7.72-7.72 1.47 1.35L5.41 20z\"/>\n",
              "  </svg>\n",
              "      </button>\n",
              "      \n",
              "  <style>\n",
              "    .colab-df-container {\n",
              "      display:flex;\n",
              "      flex-wrap:wrap;\n",
              "      gap: 12px;\n",
              "    }\n",
              "\n",
              "    .colab-df-convert {\n",
              "      background-color: #E8F0FE;\n",
              "      border: none;\n",
              "      border-radius: 50%;\n",
              "      cursor: pointer;\n",
              "      display: none;\n",
              "      fill: #1967D2;\n",
              "      height: 32px;\n",
              "      padding: 0 0 0 0;\n",
              "      width: 32px;\n",
              "    }\n",
              "\n",
              "    .colab-df-convert:hover {\n",
              "      background-color: #E2EBFA;\n",
              "      box-shadow: 0px 1px 2px rgba(60, 64, 67, 0.3), 0px 1px 3px 1px rgba(60, 64, 67, 0.15);\n",
              "      fill: #174EA6;\n",
              "    }\n",
              "\n",
              "    [theme=dark] .colab-df-convert {\n",
              "      background-color: #3B4455;\n",
              "      fill: #D2E3FC;\n",
              "    }\n",
              "\n",
              "    [theme=dark] .colab-df-convert:hover {\n",
              "      background-color: #434B5C;\n",
              "      box-shadow: 0px 1px 3px 1px rgba(0, 0, 0, 0.15);\n",
              "      filter: drop-shadow(0px 1px 2px rgba(0, 0, 0, 0.3));\n",
              "      fill: #FFFFFF;\n",
              "    }\n",
              "  </style>\n",
              "\n",
              "      <script>\n",
              "        const buttonEl =\n",
              "          document.querySelector('#df-50f1646e-42a9-4a94-bfb4-dfcaabd29985 button.colab-df-convert');\n",
              "        buttonEl.style.display =\n",
              "          google.colab.kernel.accessAllowed ? 'block' : 'none';\n",
              "\n",
              "        async function convertToInteractive(key) {\n",
              "          const element = document.querySelector('#df-50f1646e-42a9-4a94-bfb4-dfcaabd29985');\n",
              "          const dataTable =\n",
              "            await google.colab.kernel.invokeFunction('convertToInteractive',\n",
              "                                                     [key], {});\n",
              "          if (!dataTable) return;\n",
              "\n",
              "          const docLinkHtml = 'Like what you see? Visit the ' +\n",
              "            '<a target=\"_blank\" href=https://colab.research.google.com/notebooks/data_table.ipynb>data table notebook</a>'\n",
              "            + ' to learn more about interactive tables.';\n",
              "          element.innerHTML = '';\n",
              "          dataTable['output_type'] = 'display_data';\n",
              "          await google.colab.output.renderOutput(dataTable, element);\n",
              "          const docLink = document.createElement('div');\n",
              "          docLink.innerHTML = docLinkHtml;\n",
              "          element.appendChild(docLink);\n",
              "        }\n",
              "      </script>\n",
              "    </div>\n",
              "  </div>\n",
              "  "
            ],
            "text/plain": [
              "                 Price\n",
              "Date                  \n",
              "2014-11-04  324.467934\n",
              "2014-11-05  328.644408\n",
              "2014-11-06  337.921358\n",
              "2014-11-07  348.992860\n",
              "2014-11-08  341.459753"
            ]
          },
          "metadata": {},
          "execution_count": 6
        }
      ]
    },
    {
      "cell_type": "code",
      "source": [
        "import matplotlib.pyplot as plt\n",
        "bitcoin_prices.plot(figsize=(10,7))\n",
        "plt.ylabel(\"BTC Price\")\n",
        "plt.title(\"Price of bitcoin from 4 Nov 2014 to 10 Jan 2022\")\n",
        "plt.legend(fontsize=7);"
      ],
      "metadata": {
        "colab": {
          "base_uri": "https://localhost:8080/",
          "height": 458
        },
        "id": "LBZ6gQKr19dP",
        "outputId": "a73a8b8e-79eb-4a7f-8ae7-687472481a8b"
      },
      "execution_count": 7,
      "outputs": [
        {
          "output_type": "display_data",
          "data": {
            "image/png": "[encoded data removed]",
            "text/plain": [
              "<Figure size 720x504 with 1 Axes>"
            ]
          },
          "metadata": {
            "needs_background": "light"
          }
        }
      ]
    },
    {
      "cell_type": "markdown",
      "source": [
        "## Format data part 1: Create train and test sets of our time series data"
      ],
      "metadata": {
        "id": "MUuTOKt7EXUy"
      }
    },
    {
      "cell_type": "markdown",
      "source": [
        "### Creating train test splits the wrong way"
      ],
      "metadata": {
        "id": "mE_Oc2Lz2Qtt"
      }
    },
    {
      "cell_type": "code",
      "source": [
        "timestamps  =bitcoin_prices.index.to_numpy()\n",
        "prices = bitcoin_prices[\"Price\"].to_numpy()\n",
        "timestamps[:10], prices[:10]"
      ],
      "metadata": {
        "colab": {
          "base_uri": "https://localhost:8080/"
        },
        "id": "ZZNR_gMG5ZHj",
        "outputId": "7c50e24c-dc0a-4b18-9ad8-54f812474d17"
      },
      "execution_count": 8,
      "outputs": [
        {
          "output_type": "execute_result",
          "data": {
            "text/plain": [
              "(array(['2014-11-04T00:00:00.000000000', '2014-11-05T00:00:00.000000000',\n",
              "        '2014-11-06T00:00:00.000000000', '2014-11-07T00:00:00.000000000',\n",
              "        '2014-11-08T00:00:00.000000000', '2014-11-09T00:00:00.000000000',\n",
              "        '2014-11-10T00:00:00.000000000', '2014-11-11T00:00:00.000000000',\n",
              "        '2014-11-12T00:00:00.000000000', '2014-11-13T00:00:00.000000000'],\n",
              "       dtype='datetime64[ns]'),\n",
              " array([324.467934, 328.644408, 337.921358, 348.99286 , 341.459753,\n",
              "        344.745289, 357.239982, 371.116917, 366.664633, 428.882925]))"
            ]
          },
          "metadata": {},
          "execution_count": 8
        }
      ]
    },
    {
      "cell_type": "code",
      "source": [
        "# Wrong way to make train/ test sets fro rime series data\n",
        "from sklearn.model_selection import train_test_split\n",
        "\n",
        "X_train, X_test, y_train, y_test = train_test_split(timestamps, #dates\n",
        "                                                    prices,\n",
        "                                                    test_size=0.2,\n",
        "                                                    random_state=42)\n",
        "\n",
        "X_train.shape, X_test.shape, y_train.shape, y_test.shape"
      ],
      "metadata": {
        "colab": {
          "base_uri": "https://localhost:8080/"
        },
        "id": "E2I4SGXO5pdh",
        "outputId": "95ab7bea-87e4-4e5e-e30f-428b93a79f5d"
      },
      "execution_count": 9,
      "outputs": [
        {
          "output_type": "execute_result",
          "data": {
            "text/plain": [
              "((2100,), (525,), (2100,), (525,))"
            ]
          },
          "metadata": {},
          "execution_count": 9
        }
      ]
    },
    {
      "cell_type": "code",
      "source": [
        "# Lest plot wrong train and test splits\n",
        "\n",
        "plt.figure(figsize=(10,7))\n",
        "plt.scatter(X_train, y_train,s=5, label=\"Train data\")\n",
        "plt.scatter(X_test, y_test, s=5, label=\"Test Data\")\n",
        "plt.xlabel(\"Date\")\n",
        "plt.ylabel(\"Prices\")\n",
        "plt.legend(fontsize=14)\n",
        "plt.show()"
      ],
      "metadata": {
        "colab": {
          "base_uri": "https://localhost:8080/",
          "height": 442
        },
        "id": "ALi-R6uo-7QC",
        "outputId": "37b2ca25-4420-4b65-fe2c-4b08f8e6b6d1"
      },
      "execution_count": 10,
      "outputs": [
        {
          "output_type": "display_data",
          "data": {
            "image/png": "[encoded data removed]",
            "text/plain": [
              "<Figure size 720x504 with 1 Axes>"
            ]
          },
          "metadata": {
            "needs_background": "light"
          }
        }
      ]
    },
    {
      "cell_type": "markdown",
      "source": [
        "`Why wrong -- as we can see there is a data lekage in splits`"
      ],
      "metadata": {
        "id": "N2scGbpC_lMc"
      }
    },
    {
      "cell_type": "markdown",
      "source": [
        "### Creating the tarin/test splits for time series the correct way\n"
      ],
      "metadata": {
        "id": "1DQVoN1T_5yj"
      }
    },
    {
      "cell_type": "code",
      "source": [
        "split_size = int(0.8 * len(prices)) # * 80% train, 20% split\n",
        "\n",
        "# Train data splits\n",
        "X_train, y_train = timestamps[:split_size], prices[:split_size]\n",
        "\n",
        "# Test data splits\n",
        "X_test, y_test = timestamps[split_size:], prices[split_size:]\n",
        "\n",
        "X_train.shape, X_test.shape, y_train.shape, y_test.shape"
      ],
      "metadata": {
        "colab": {
          "base_uri": "https://localhost:8080/"
        },
        "id": "hCAqK1fGAHwN",
        "outputId": "de13a65c-53c6-4e3e-ebd5-1f483dcc1c12"
      },
      "execution_count": 11,
      "outputs": [
        {
          "output_type": "execute_result",
          "data": {
            "text/plain": [
              "((2100,), (525,), (2100,), (525,))"
            ]
          },
          "metadata": {},
          "execution_count": 11
        }
      ]
    },
    {
      "cell_type": "code",
      "source": [
        "# Plot correctly made splits\n",
        "plt.figure(figsize=(10,7))\n",
        "plt.scatter(X_train, y_train,s=5, label=\"Train Data\")\n",
        "plt.scatter(X_test, y_test,s=5, label=\"Test Data\")\n",
        "plt.xlabel(\"Date\")\n",
        "plt.ylabel(\"Price\")\n",
        "plt.legend(fontsize=14)\n",
        "plt.show();"
      ],
      "metadata": {
        "colab": {
          "base_uri": "https://localhost:8080/",
          "height": 442
        },
        "id": "WtTp4NkYA_-j",
        "outputId": "adca4c42-6287-4544-aa47-d78aab257e1f"
      },
      "execution_count": 12,
      "outputs": [
        {
          "output_type": "display_data",
          "data": {
            "image/png": "[encoded data removed]",
            "text/plain": [
              "<Figure size 720x504 with 1 Axes>"
            ]
          },
          "metadata": {
            "needs_background": "light"
          }
        }
      ]
    },
    {
      "cell_type": "markdown",
      "source": [
        "## Create a plotting function"
      ],
      "metadata": {
        "id": "fl6NWs7vBbx9"
      }
    },
    {
      "cell_type": "code",
      "source": [
        "def plot_time_series(timestamps, values, format=\".\", start=0, end=None, label=None):\n",
        "  \"\"\"\n",
        "  Plots timestamps against values\n",
        "\n",
        "  Parameters\n",
        "  ----------\n",
        "  timestamps : array of timestamp values\n",
        "  values : array of values across time\n",
        "  format : style of plot, default=\".\"\n",
        "  start : where to start the plot\n",
        "  end : where to end the plot\n",
        "  label : label to show on plot about values, default None\n",
        "  \"\"\"\n",
        "\n",
        "  plt.plot(timestamps[start:end], values[start:end], format, label=label)\n",
        "  plt.xlabel(\"Time\")\n",
        "  plt.ylabel(\"BTC Price\")\n",
        "  if label:\n",
        "    plt.legend(fontsize=14)\n",
        "  plt.grid(True)"
      ],
      "metadata": {
        "id": "kGw6qrqTC6sJ"
      },
      "execution_count": 13,
      "outputs": []
    },
    {
      "cell_type": "code",
      "source": [
        "plt.figure(figsize=(10,7))\n",
        "plot_time_series(timestamps=X_train, values=y_train, label=\"Train data\")\n",
        "plot_time_series(timestamps=X_test, values=y_test, label=\"Test data\")"
      ],
      "metadata": {
        "colab": {
          "base_uri": "https://localhost:8080/",
          "height": 442
        },
        "id": "xJt7rvFfEGZl",
        "outputId": "0d2b992b-90c7-45d8-9ec4-a87d9503f8ba"
      },
      "execution_count": 14,
      "outputs": [
        {
          "output_type": "display_data",
          "data": {
            "image/png": "[encoded data removed]",
            "text/plain": [
              "<Figure size 720x504 with 1 Axes>"
            ]
          },
          "metadata": {
            "needs_background": "light"
          }
        }
      ]
    },
    {
      "cell_type": "code",
      "source": [
        "plt.figure(figsize=(10,7))\n",
        "plot_time_series(timestamps=X_train, values=y_train, start=1000,label=\"Train data\") # Zooming the data\n",
        "plot_time_series(timestamps=X_test, values=y_test, label=\"Test data\")"
      ],
      "metadata": {
        "colab": {
          "base_uri": "https://localhost:8080/",
          "height": 442
        },
        "id": "Qu6qSoYuEVKV",
        "outputId": "5f72e94a-6e1e-4f41-cb54-2a40b1ffac27"
      },
      "execution_count": 15,
      "outputs": [
        {
          "output_type": "display_data",
          "data": {
            "image/png": "[encoded data removed]",
            "text/plain": [
              "<Figure size 720x504 with 1 Axes>"
            ]
          },
          "metadata": {
            "needs_background": "light"
          }
        }
      ]
    },
    {
      "cell_type": "markdown",
      "source": [
        "## Modelling Experiments\n",
        "\n",
        "* Horizon = number of timestamps into the future we're going to predict\n",
        "* Window Size = number od timestamps we're going to use to predict horizon"
      ],
      "metadata": {
        "id": "c91Noup6Eq4N"
      }
    },
    {
      "cell_type": "markdown",
      "source": [
        "## 1 Naive Model(Baseline)\n",
        "\n",
        "formula:\n",
        "\n",
        "$$\\hat{y}_{t} = y_{t-1}$$\n",
        "\n",
        "> The prediction at timestep t(y-hat) is equal to the value at timestep t-1 (previous timestep) -  for horizon of 1\n",
        "\n",
        "https://otexts.com/fpp3/simple-methods.html"
      ],
      "metadata": {
        "id": "-mFRrav1SiVp"
      }
    },
    {
      "cell_type": "code",
      "source": [
        "y_test[:10]"
      ],
      "metadata": {
        "colab": {
          "base_uri": "https://localhost:8080/"
        },
        "id": "XWCtWxXSUZJd",
        "outputId": "ad0ed424-d6a3-4e01-cde1-1c0f1d97593b"
      },
      "execution_count": 16,
      "outputs": [
        {
          "output_type": "execute_result",
          "data": {
            "text/plain": [
              "array([11237.354858, 11194.363266, 11752.296549, 11773.533625,\n",
              "       11604.023443, 11772.251532, 11688.53133 , 11895.310159,\n",
              "       11391.014647, 11569.186093])"
            ]
          },
          "metadata": {},
          "execution_count": 16
        }
      ]
    },
    {
      "cell_type": "code",
      "source": [
        "naive_forecast = y_test[:-1]\n",
        "\n",
        "naive_forecast[:10], naive_forecast[-10:]"
      ],
      "metadata": {
        "colab": {
          "base_uri": "https://localhost:8080/"
        },
        "id": "mtVIJzQtSraq",
        "outputId": "f76ca76c-dfe3-486a-f93e-5b7b1e2bfbbb"
      },
      "execution_count": 17,
      "outputs": [
        {
          "output_type": "execute_result",
          "data": {
            "text/plain": [
              "(array([11237.354858, 11194.363266, 11752.296549, 11773.533625,\n",
              "        11604.023443, 11772.251532, 11688.53133 , 11895.310159,\n",
              "        11391.014647, 11569.186093]),\n",
              " array([47128.468155, 46208.210437, 47739.420026, 47317.947964,\n",
              "        46434.508081, 45837.130344, 43428.699545, 43107.257821,\n",
              "        41534.350712, 41687.227593]))"
            ]
          },
          "metadata": {},
          "execution_count": 17
        }
      ]
    },
    {
      "cell_type": "code",
      "source": [
        "y_test[-10:]"
      ],
      "metadata": {
        "colab": {
          "base_uri": "https://localhost:8080/"
        },
        "id": "42xIZtiYUsmF",
        "outputId": "2488f21e-a391-478d-8967-52fa55ac4e56"
      },
      "execution_count": 18,
      "outputs": [
        {
          "output_type": "execute_result",
          "data": {
            "text/plain": [
              "array([46208.210437, 47739.420026, 47317.947964, 46434.508081,\n",
              "       45837.130344, 43428.699545, 43107.257821, 41534.350712,\n",
              "       41687.227593, 41861.803632])"
            ]
          },
          "metadata": {},
          "execution_count": 18
        }
      ]
    },
    {
      "cell_type": "code",
      "source": [
        "# Plot Naive forecast\n",
        "plt.figure(figsize=(10,7))\n",
        "# plot_time_series(timestamps=X_train, values=y_train, label=\"Train Data\")\n",
        "plot_time_series(timestamps=X_test, values=y_test, start=400, format=\"-\",label=\"Test Data\")\n",
        "plot_time_series(timestamps=X_test[1:], values=naive_forecast,start=400, format=\"-\",label=\"Naive Forecast\")"
      ],
      "metadata": {
        "colab": {
          "base_uri": "https://localhost:8080/",
          "height": 442
        },
        "id": "6j9ZyBiuU12G",
        "outputId": "52bebc68-4f2e-4c51-999b-c1b5654b066b"
      },
      "execution_count": 19,
      "outputs": [
        {
          "output_type": "display_data",
          "data": {
            "image/png": "[encoded data removed]",
            "text/plain": [
              "<Figure size 720x504 with 1 Axes>"
            ]
          },
          "metadata": {
            "needs_background": "light"
          }
        }
      ]
    },
    {
      "cell_type": "markdown",
      "source": [
        "#### Evaluating time series model \n",
        "\n",
        "How good our model's forecast y_pred compare aginst the actual values(y_true or ground truth values) ?\n",
        "\n",
        "Common regression metrics:\n",
        "\n",
        "* MAE -  mean absolute error\n",
        "* MSE - mean squared error\n",
        "* RMSE -  root mean square error\n",
        "* MAPE/sMAPE - (symmetric) mean absolute percentage error\n",
        "* MASE - mean absolute scaled error\n"
      ],
      "metadata": {
        "id": "ZM67z6OcVw9x"
      }
    },
    {
      "cell_type": "code",
      "source": [
        "import tensorflow as tf\n",
        "\n",
        "def evaluate_preds(y_true, y_pred):\n",
        "\n",
        "  mae= tf.keras.metrics.mean_absolute_error(y_true, y_pred)\n",
        "  mse = tf.keras.metrics.mean_squared_error(y_true, y_pred)\n",
        "  rmse = tf.sqrt(mse)\n",
        "  mape = tf.keras.metrics.mean_absolute_percentage_error(y_true, y_pred)\n",
        "\n",
        "  # Account for different sized metrics( for longer version, we want to reduce to a single value)\n",
        "  if mae.ndim > 0:\n",
        "    mae = tf.reduce_mean(mae)\n",
        "    mse =tf.reduce_mean(mse)\n",
        "    rmse = tf.reduce_mean(rmse)\n",
        "    mape= tf.reduce_mean(mape)\n",
        "    \n",
        "  return {\n",
        "      \"mae\": mae.numpy(),\n",
        "      \"mse\": mse.numpy(),\n",
        "      \"rmse\": rmse.numpy(),\n",
        "      \"mape\": mape.numpy()\n",
        "  } "
      ],
      "metadata": {
        "id": "JZDe0k_kW7lL"
      },
      "execution_count": 20,
      "outputs": []
    },
    {
      "cell_type": "code",
      "source": [
        "naive_results = evaluate_preds(y_true=y_test[1:],\n",
        "                               y_pred=naive_forecast)\n",
        "naive_results"
      ],
      "metadata": {
        "colab": {
          "base_uri": "https://localhost:8080/"
        },
        "id": "iegzsf223dso",
        "outputId": "0f426358-bc9c-4aa8-a7ca-f73edfded4ef"
      },
      "execution_count": 21,
      "outputs": [
        {
          "output_type": "execute_result",
          "data": {
            "text/plain": [
              "{'mae': 1112.547989736641,\n",
              " 'mape': 2.822934133016182,\n",
              " 'mse': 2676604.3201613766,\n",
              " 'rmse': 1636.0331048488526}"
            ]
          },
          "metadata": {},
          "execution_count": 21
        }
      ]
    },
    {
      "cell_type": "markdown",
      "source": [
        "## Format data part 2: Windowing our dataset\n",
        "\n",
        "We window our time series to turn data into a supervised learning problem\n",
        "\n",
        "```\n",
        "Windowing for 1 week\n",
        "[0,1,2,3,4,5,6]->[7]\n"
      ],
      "metadata": {
        "id": "8etZkvOl3v3D"
      }
    },
    {
      "cell_type": "code",
      "source": [
        "# What we want to do with our bitcoin data\n",
        "print(f\"We want to use: {prices[:7]} to predict: {prices[7]}\")\n"
      ],
      "metadata": {
        "colab": {
          "base_uri": "https://localhost:8080/"
        },
        "id": "fmonwlJEaMyU",
        "outputId": "9339a715-754a-457a-9ae1-86ec16c159d6"
      },
      "execution_count": 22,
      "outputs": [
        {
          "output_type": "stream",
          "name": "stdout",
          "text": [
            "We want to use: [324.467934 328.644408 337.921358 348.99286  341.459753 344.745289\n",
            " 357.239982] to predict: 371.116917\n"
          ]
        }
      ]
    },
    {
      "cell_type": "code",
      "source": [
        "# Global variables for window anfd horizon size\n",
        "HORIZON  = 1 # predict next 1 day\n",
        "WINDOW_SIZE = 7 # use the past week of bitcoin data to make teh prediction"
      ],
      "metadata": {
        "id": "FVNhKT0bawIt"
      },
      "execution_count": 23,
      "outputs": []
    },
    {
      "cell_type": "code",
      "source": [
        "# Function to label windowed data\n",
        "def get_labeled_windows(x, horizon=HORIZON):\n",
        "  \"\"\"\n",
        "  Creates labels for windowed dataset\n",
        "\n",
        "  E.g. if horizon=1\n",
        "  Input: [0, 1, 2, 3, 4, 5, 6, 7] -> ouput: ([0, 1, 2, 3, 4, 5, 6], [7])\n",
        "  \"\"\"\n",
        "  return x[:, :-horizon], x[:, -horizon:]"
      ],
      "metadata": {
        "id": "_O2IMfu8caND"
      },
      "execution_count": 24,
      "outputs": []
    },
    {
      "cell_type": "code",
      "source": [
        "test_window, test_label = get_labeled_windows(tf.expand_dims(tf.range(8), axis=0))\n",
        "test_window, test_label"
      ],
      "metadata": {
        "colab": {
          "base_uri": "https://localhost:8080/"
        },
        "id": "u7iN4VgLcjh2",
        "outputId": "a9520143-349a-423c-9492-fce3c3ab8155"
      },
      "execution_count": 25,
      "outputs": [
        {
          "output_type": "execute_result",
          "data": {
            "text/plain": [
              "(<tf.Tensor: shape=(1, 7), dtype=int32, numpy=array([[0, 1, 2, 3, 4, 5, 6]], dtype=int32)>,\n",
              " <tf.Tensor: shape=(1, 1), dtype=int32, numpy=array([[7]], dtype=int32)>)"
            ]
          },
          "metadata": {},
          "execution_count": 25
        }
      ]
    },
    {
      "cell_type": "markdown",
      "source": [
        "We have got a way to label our windowed data.\n",
        "\n",
        "However, this works only for a small scale.\n",
        "\n",
        "Now we need to do tit for entire time series\n",
        "\n",
        "We could do this with python loops, however for large time seires, that'd be quite slow.\n",
        "\n",
        "To speed things up, we will leverage NUmPy's indexing. https://numpy.org/doc/stable/user/basics.indexing.html\n",
        "\n",
        "**Resource: The fucntion we are about to create has been adapted from the following article**\n",
        "\n",
        "https://towardsdatascience.com/fast-and-robust-sliding-window-vectorization-with-numpy-3ad950ed62f5"
      ],
      "metadata": {
        "id": "mrbSoyu8dmOv"
      }
    },
    {
      "cell_type": "code",
      "source": [
        "import numpy as np\n",
        "\n",
        "def make_windows(x, window_size=WINDOW_SIZE, horizon = HORIZON):\n",
        "  \"\"\"\n",
        "  Turns a 1D array into a 2D array of sequential labelled windows of window_size with horizon size labels.\n",
        "  \"\"\"\n",
        "  # Create \n",
        "  window_step = np.expand_dims(np.arange(window_size+horizon), axis=0)\n",
        "\n",
        "  window_indexes = window_step + np.expand_dims(np.arange(len(x)-(window_size+horizon-1)), axis=0).T\n",
        "\n",
        "  windowed_array = x[window_indexes]\n",
        "\n",
        "  windows, labels = get_labeled_windows(windowed_array, horizon=horizon)\n",
        "\n",
        "  return windows, labels"
      ],
      "metadata": {
        "id": "sT9Zk-2gnR26"
      },
      "execution_count": 26,
      "outputs": []
    },
    {
      "cell_type": "code",
      "source": [
        " window_step=np.expand_dims(np.arange(8), axis=0)\n",
        " window_indexes = window_step + np.expand_dims(np.arange(len(prices)-(8-1)), axis=0).T\n",
        "windowed_array = prices[window_indexes]\n",
        "windowed_array"
      ],
      "metadata": {
        "colab": {
          "base_uri": "https://localhost:8080/"
        },
        "id": "MdNclzFZ-8SK",
        "outputId": "0bf87119-de4c-4f62-cbc4-ad3fc82a8db9"
      },
      "execution_count": 27,
      "outputs": [
        {
          "output_type": "execute_result",
          "data": {
            "text/plain": [
              "array([[  324.467934,   328.644408,   337.921358, ...,   344.745289,\n",
              "          357.239982,   371.116917],\n",
              "       [  328.644408,   337.921358,   348.99286 , ...,   357.239982,\n",
              "          371.116917,   366.664633],\n",
              "       [  337.921358,   348.99286 ,   341.459753, ...,   371.116917,\n",
              "          366.664633,   428.882925],\n",
              "       ...,\n",
              "       [46208.210437, 47739.420026, 47317.947964, ..., 43428.699545,\n",
              "        43107.257821, 41534.350712],\n",
              "       [47739.420026, 47317.947964, 46434.508081, ..., 43107.257821,\n",
              "        41534.350712, 41687.227593],\n",
              "       [47317.947964, 46434.508081, 45837.130344, ..., 41534.350712,\n",
              "        41687.227593, 41861.803632]])"
            ]
          },
          "metadata": {},
          "execution_count": 27
        }
      ]
    },
    {
      "cell_type": "code",
      "source": [
        "full_windows, full_labels = make_windows(prices, window_size=WINDOW_SIZE, horizon=HORIZON)\n",
        "full_windows[:10], full_labels[:10]"
      ],
      "metadata": {
        "colab": {
          "base_uri": "https://localhost:8080/"
        },
        "id": "ma-e8tjV6_j0",
        "outputId": "a4a2544b-6198-47e7-c9c9-0d427ac9c000"
      },
      "execution_count": 28,
      "outputs": [
        {
          "output_type": "execute_result",
          "data": {
            "text/plain": [
              "(array([[324.467934, 328.644408, 337.921358, 348.99286 , 341.459753,\n",
              "         344.745289, 357.239982],\n",
              "        [328.644408, 337.921358, 348.99286 , 341.459753, 344.745289,\n",
              "         357.239982, 371.116917],\n",
              "        [337.921358, 348.99286 , 341.459753, 344.745289, 357.239982,\n",
              "         371.116917, 366.664633],\n",
              "        [348.99286 , 341.459753, 344.745289, 357.239982, 371.116917,\n",
              "         366.664633, 428.882925],\n",
              "        [341.459753, 344.745289, 357.239982, 371.116917, 366.664633,\n",
              "         428.882925, 418.944218],\n",
              "        [344.745289, 357.239982, 371.116917, 366.664633, 428.882925,\n",
              "         418.944218, 399.688315],\n",
              "        [357.239982, 371.116917, 366.664633, 428.882925, 418.944218,\n",
              "         399.688315, 374.983975],\n",
              "        [371.116917, 366.664633, 428.882925, 418.944218, 399.688315,\n",
              "         374.983975, 388.040069],\n",
              "        [366.664633, 428.882925, 418.944218, 399.688315, 374.983975,\n",
              "         388.040069, 387.062731],\n",
              "        [428.882925, 418.944218, 399.688315, 374.983975, 388.040069,\n",
              "         387.062731, 373.7797  ]]), array([[371.116917],\n",
              "        [366.664633],\n",
              "        [428.882925],\n",
              "        [418.944218],\n",
              "        [399.688315],\n",
              "        [374.983975],\n",
              "        [388.040069],\n",
              "        [387.062731],\n",
              "        [373.7797  ],\n",
              "        [378.013084]]))"
            ]
          },
          "metadata": {},
          "execution_count": 28
        }
      ]
    },
    {
      "cell_type": "code",
      "source": [
        "for i in range(3):\n",
        "  print(f\"Window: {full_windows[i]} -> Label: {full_labels[i]}\")"
      ],
      "metadata": {
        "colab": {
          "base_uri": "https://localhost:8080/"
        },
        "id": "PP9CF_JN7NSB",
        "outputId": "f8c09ca2-17cf-4c02-dbfd-3a8b8e330f26"
      },
      "execution_count": 29,
      "outputs": [
        {
          "output_type": "stream",
          "name": "stdout",
          "text": [
            "Window: [324.467934 328.644408 337.921358 348.99286  341.459753 344.745289\n",
            " 357.239982] -> Label: [371.116917]\n",
            "Window: [328.644408 337.921358 348.99286  341.459753 344.745289 357.239982\n",
            " 371.116917] -> Label: [366.664633]\n",
            "Window: [337.921358 348.99286  341.459753 344.745289 357.239982 371.116917\n",
            " 366.664633] -> Label: [428.882925]\n"
          ]
        }
      ]
    },
    {
      "cell_type": "code",
      "source": [
        "len(full_windows), len(full_labels)"
      ],
      "metadata": {
        "colab": {
          "base_uri": "https://localhost:8080/"
        },
        "id": "X_DJZKn67qn9",
        "outputId": "c29a73b3-b40f-40f2-af4b-ef0b188755f3"
      },
      "execution_count": 30,
      "outputs": [
        {
          "output_type": "execute_result",
          "data": {
            "text/plain": [
              "(2618, 2618)"
            ]
          },
          "metadata": {},
          "execution_count": 30
        }
      ]
    },
    {
      "cell_type": "code",
      "source": [
        "len(prices)\n"
      ],
      "metadata": {
        "colab": {
          "base_uri": "https://localhost:8080/"
        },
        "id": "yKnBUhT_8Pnn",
        "outputId": "9eb5f945-a2c6-49d8-a29b-889acee6295b"
      },
      "execution_count": 31,
      "outputs": [
        {
          "output_type": "execute_result",
          "data": {
            "text/plain": [
              "2625"
            ]
          },
          "metadata": {},
          "execution_count": 31
        }
      ]
    },
    {
      "cell_type": "markdown",
      "source": [
        "## Turning our windowed time series data into trainiing and test splits"
      ],
      "metadata": {
        "id": "l5L5tKvV8R-4"
      }
    },
    {
      "cell_type": "code",
      "source": [
        "# Make train and test splits\n",
        "def make_train_test_splits(windows, labels, test_split=0.2):\n",
        "  \"\"\"\n",
        "  Splits matching pairs of windows and labels into train and test splits\n",
        "  \"\"\"\n",
        "  split_size = int(len(windows) * (1-test_split)) # This will default to 80% test/ 20% test\n",
        "  train_windows = windows[:split_size]\n",
        "  train_labels = labels[:split_size]\n",
        "  test_windows = windows[split_size:]\n",
        "  test_labels = labels[split_size:]\n",
        "  return train_windows, test_windows, train_labels, test_labels \n"
      ],
      "metadata": {
        "id": "wy9o1nrJhF6q"
      },
      "execution_count": 32,
      "outputs": []
    },
    {
      "cell_type": "code",
      "source": [
        "train_windows, test_windows, train_labels, test_labels =  make_train_test_splits(full_windows, full_labels)\n",
        "len(train_windows), len(test_windows), len(train_labels), len(test_labels)"
      ],
      "metadata": {
        "colab": {
          "base_uri": "https://localhost:8080/"
        },
        "id": "oEKgde2MiVU3",
        "outputId": "50528043-6836-4f81-ed50-08166bb369bc"
      },
      "execution_count": 33,
      "outputs": [
        {
          "output_type": "execute_result",
          "data": {
            "text/plain": [
              "(2094, 524, 2094, 524)"
            ]
          },
          "metadata": {},
          "execution_count": 33
        }
      ]
    },
    {
      "cell_type": "code",
      "source": [
        "# Check to see if train labels are the same( before and after window split)\n",
        "\n",
        "np.array_equal(np.squeeze(train_labels[:-HORIZON-1]), y_train[WINDOW_SIZE:])"
      ],
      "metadata": {
        "colab": {
          "base_uri": "https://localhost:8080/"
        },
        "id": "_RCvGmKQimeW",
        "outputId": "0f1222ef-7660-4c7c-b3b9-e00317078d7f"
      },
      "execution_count": 34,
      "outputs": [
        {
          "output_type": "execute_result",
          "data": {
            "text/plain": [
              "False"
            ]
          },
          "metadata": {},
          "execution_count": 34
        }
      ]
    },
    {
      "cell_type": "code",
      "source": [
        "test_labels.shape\n"
      ],
      "metadata": {
        "colab": {
          "base_uri": "https://localhost:8080/"
        },
        "id": "KB4BB4H4jjuz",
        "outputId": "14d99b7b-45fb-4f00-8e10-7e6223576c12"
      },
      "execution_count": 35,
      "outputs": [
        {
          "output_type": "execute_result",
          "data": {
            "text/plain": [
              "(524, 1)"
            ]
          },
          "metadata": {},
          "execution_count": 35
        }
      ]
    },
    {
      "cell_type": "code",
      "source": [
        "len(y_train)"
      ],
      "metadata": {
        "colab": {
          "base_uri": "https://localhost:8080/"
        },
        "id": "_QDOOAiGjEYg",
        "outputId": "6049ac7d-7318-4c6c-ec94-1f8aa1190bce"
      },
      "execution_count": 36,
      "outputs": [
        {
          "output_type": "execute_result",
          "data": {
            "text/plain": [
              "2100"
            ]
          },
          "metadata": {},
          "execution_count": 36
        }
      ]
    },
    {
      "cell_type": "code",
      "source": [
        "len(train_labels)"
      ],
      "metadata": {
        "colab": {
          "base_uri": "https://localhost:8080/"
        },
        "id": "jusPfHg6jVeq",
        "outputId": "8ad71b3c-156b-45cc-9745-79e6480b04dd"
      },
      "execution_count": 37,
      "outputs": [
        {
          "output_type": "execute_result",
          "data": {
            "text/plain": [
              "2094"
            ]
          },
          "metadata": {},
          "execution_count": 37
        }
      ]
    },
    {
      "cell_type": "code",
      "source": [
        "-HORIZON-1"
      ],
      "metadata": {
        "colab": {
          "base_uri": "https://localhost:8080/"
        },
        "id": "PVCXoBZkjZ6y",
        "outputId": "d1e3aa14-1253-4c5d-c6b4-9887ae4d8e5f"
      },
      "execution_count": 38,
      "outputs": [
        {
          "output_type": "execute_result",
          "data": {
            "text/plain": [
              "-2"
            ]
          },
          "metadata": {},
          "execution_count": 38
        }
      ]
    },
    {
      "cell_type": "code",
      "source": [
        "len(np.squeeze(train_labels[:-HORIZON-1]))"
      ],
      "metadata": {
        "colab": {
          "base_uri": "https://localhost:8080/"
        },
        "id": "aayxf8g6jtmG",
        "outputId": "fdf620ba-76aa-410c-95a8-69a1eb8db583"
      },
      "execution_count": 39,
      "outputs": [
        {
          "output_type": "execute_result",
          "data": {
            "text/plain": [
              "2092"
            ]
          },
          "metadata": {},
          "execution_count": 39
        }
      ]
    },
    {
      "cell_type": "code",
      "source": [
        "train_labels[2093]"
      ],
      "metadata": {
        "colab": {
          "base_uri": "https://localhost:8080/"
        },
        "id": "e1oFj90Zk01X",
        "outputId": "bff01c34-d7d2-472c-96a8-25183ba53e19"
      },
      "execution_count": 40,
      "outputs": [
        {
          "output_type": "execute_result",
          "data": {
            "text/plain": [
              "array([11237.354858])"
            ]
          },
          "metadata": {},
          "execution_count": 40
        }
      ]
    },
    {
      "cell_type": "code",
      "source": [
        "y_train[-10:]"
      ],
      "metadata": {
        "colab": {
          "base_uri": "https://localhost:8080/"
        },
        "id": "mxziY-0WksDd",
        "outputId": "5f23888a-9d1c-4dd0-8351-8a762a9ef82c"
      },
      "execution_count": 41,
      "outputs": [
        {
          "output_type": "execute_result",
          "data": {
            "text/plain": [
              "array([ 9551.22437 ,  9710.2     ,  9940.53292 , 11045.5     ,\n",
              "       10933.5     , 11110.779249, 11112.39206 , 11351.67    ,\n",
              "       11816.057687, 11065.305792])"
            ]
          },
          "metadata": {},
          "execution_count": 41
        }
      ]
    },
    {
      "cell_type": "code",
      "source": [
        "y_train[2093]"
      ],
      "metadata": {
        "colab": {
          "base_uri": "https://localhost:8080/"
        },
        "id": "PRbZ-iIWk_pY",
        "outputId": "8c302519-9382-46af-d439-642107878afa"
      },
      "execution_count": 42,
      "outputs": [
        {
          "output_type": "execute_result",
          "data": {
            "text/plain": [
              "11045.5"
            ]
          },
          "metadata": {},
          "execution_count": 42
        }
      ]
    },
    {
      "cell_type": "markdown",
      "source": [
        "## Making a modelling checkpoint callback\n",
        "\n",
        "Because our model's performance will fluctuate from experiment to experiment, we're going to write a model checkpoint.\n",
        "\n",
        "More specifially, we want to compare each of our's model's best performances against the other model's best performances.\n",
        "\n",
        "For example if our model performs best on epoch 55(but we are training for 100 epochs), we want to load anf evaluate the model saved on epoch 55\n"
      ],
      "metadata": {
        "id": "AOmFky39lU88"
      }
    },
    {
      "cell_type": "code",
      "source": [
        "import os\n",
        "\n",
        "# Function to implement a model checkpoint callback with a specific filename\n",
        "def create_model_checkpoint(model_name, save_path=\"model_experiments\"):\n",
        "  return tf.keras.callbacks.ModelCheckpoint(filepath=os.path.join(save_path, model_name),\n",
        "                                            verbose=0,\n",
        "                                            save_best_only=True)"
      ],
      "metadata": {
        "id": "kb12udNGErfY"
      },
      "execution_count": 43,
      "outputs": []
    },
    {
      "cell_type": "markdown",
      "source": [
        "## Model 1: Dense model\n",
        "\n",
        "Our first deep model will is going to be a simple dense model:\n",
        "* A single dense layer with 120 hidden unitsand ReLU\n",
        "* An output layer with linear activation\n",
        "* Adam optimization and MAE loss funcion\n",
        "* Batch size of 128 (as we have less data we can afford large batch size)\n",
        "* 100 epochs"
      ],
      "metadata": {
        "id": "F9SjmAPsFw80"
      }
    },
    {
      "cell_type": "code",
      "source": [
        "import tensorflow as tf\n",
        "from tensorflow.keras import layers\n",
        "\n",
        "# Set random seed for reproducible results\n",
        "tf.random.set_seed(42)\n",
        "\n",
        "# 1. Constrcut model\n",
        "model_1 = tf.keras.Sequential([\n",
        "                               layers.Dense(128, activation=\"relu\"),\n",
        "                               layers.Dense(HORIZON, activation=\"linear\") # Linear activaton is samea shaving no activation\n",
        "], name=\"model_1_dense\")\n",
        "\n",
        "# 2. Compile\n",
        "model_1.compile(loss=\"mae\",\n",
        "                optimizer=tf.keras.optimizers.Adam(),\n",
        "                metrics=[\"mae\", \"mse\"])\n",
        "\n",
        "# 3. Fit the model\n",
        "model_1.fit(x=train_windows,\n",
        "            y=train_labels,\n",
        "            epochs=100,\n",
        "            verbose=1,\n",
        "            validation_data=(test_windows, test_labels),\n",
        "            callbacks=[create_model_checkpoint(model_name=model_1.name)])\n"
      ],
      "metadata": {
        "colab": {
          "base_uri": "https://localhost:8080/"
        },
        "id": "dvZYp3zTHBWq",
        "outputId": "b1952706-16ce-434c-bcaf-b8d1cae5906e"
      },
      "execution_count": 44,
      "outputs": [
        {
          "output_type": "stream",
          "name": "stdout",
          "text": [
            "Epoch 1/100\n",
            "32/66 [=============>................] - ETA: 0s - loss: 712.3203 - mae: 712.3203 - mse: 1946819.0000    INFO:tensorflow:Assets written to: model_experiments/model_1_dense/assets\n",
            "66/66 [==============================] - 1s 12ms/step - loss: 471.7239 - mae: 471.7239 - mse: 1071527.1250 - val_loss: 1912.5199 - val_mae: 1912.5199 - val_mse: 6727698.0000\n",
            "Epoch 2/100\n",
            "38/66 [================>.............] - ETA: 0s - loss: 217.2455 - mae: 217.2455 - mse: 171032.7031INFO:tensorflow:Assets written to: model_experiments/model_1_dense/assets\n",
            "66/66 [==============================] - 1s 9ms/step - loss: 220.1906 - mae: 220.1906 - mse: 189433.1562 - val_loss: 1893.0193 - val_mae: 1893.0193 - val_mse: 6341999.0000\n",
            "Epoch 3/100\n",
            "38/66 [================>.............] - ETA: 0s - loss: 214.8393 - mae: 214.8393 - mse: 172444.0469INFO:tensorflow:Assets written to: model_experiments/model_1_dense/assets\n",
            "66/66 [==============================] - 1s 8ms/step - loss: 206.4901 - mae: 206.4901 - mse: 165161.4688 - val_loss: 1633.6552 - val_mae: 1633.6552 - val_mse: 5448373.0000\n",
            "Epoch 4/100\n",
            "41/66 [=================>............] - ETA: 0s - loss: 199.2232 - mae: 199.2232 - mse: 166044.5469INFO:tensorflow:Assets written to: model_experiments/model_1_dense/assets\n",
            "66/66 [==============================] - 1s 9ms/step - loss: 184.5336 - mae: 184.5336 - mse: 139346.7812 - val_loss: 1417.8542 - val_mae: 1417.8542 - val_mse: 3970561.0000\n",
            "Epoch 5/100\n",
            "40/66 [=================>............] - ETA: 0s - loss: 175.6757 - mae: 175.6757 - mse: 121194.1719INFO:tensorflow:Assets written to: model_experiments/model_1_dense/assets\n",
            "66/66 [==============================] - 1s 8ms/step - loss: 174.2422 - mae: 174.2422 - mse: 124638.1094 - val_loss: 1386.0103 - val_mae: 1386.0103 - val_mse: 3941557.2500\n",
            "Epoch 6/100\n",
            "35/66 [==============>...............] - ETA: 0s - loss: 156.9486 - mae: 156.9486 - mse: 107557.1641INFO:tensorflow:Assets written to: model_experiments/model_1_dense/assets\n",
            "66/66 [==============================] - 1s 9ms/step - loss: 167.6847 - mae: 167.6847 - mse: 114589.6641 - val_loss: 1338.9143 - val_mae: 1338.9143 - val_mse: 3690777.5000\n",
            "Epoch 7/100\n",
            "66/66 [==============================] - 0s 2ms/step - loss: 173.3014 - mae: 173.3014 - mse: 124384.8438 - val_loss: 1389.3292 - val_mae: 1389.3292 - val_mse: 3597843.5000\n",
            "Epoch 8/100\n",
            "39/66 [================>.............] - ETA: 0s - loss: 146.5525 - mae: 146.5525 - mse: 88333.2344INFO:tensorflow:Assets written to: model_experiments/model_1_dense/assets\n",
            "66/66 [==============================] - 1s 9ms/step - loss: 152.1824 - mae: 152.1824 - mse: 101329.3594 - val_loss: 1245.1964 - val_mae: 1245.1964 - val_mse: 3230654.5000\n",
            "Epoch 9/100\n",
            "66/66 [==============================] - 0s 2ms/step - loss: 161.2032 - mae: 161.2032 - mse: 104090.8672 - val_loss: 1392.2189 - val_mae: 1392.2189 - val_mse: 3597061.7500\n",
            "Epoch 10/100\n",
            "43/66 [==================>...........] - ETA: 0s - loss: 165.1027 - mae: 165.1027 - mse: 105132.4062INFO:tensorflow:Assets written to: model_experiments/model_1_dense/assets\n",
            "66/66 [==============================] - 1s 9ms/step - loss: 157.6910 - mae: 157.6910 - mse: 105508.1641 - val_loss: 1207.4237 - val_mae: 1207.4237 - val_mse: 3055248.0000\n",
            "Epoch 11/100\n",
            "66/66 [==============================] - 0s 2ms/step - loss: 152.4479 - mae: 152.4479 - mse: 99673.9297 - val_loss: 1311.4966 - val_mae: 1311.4966 - val_mse: 3287680.0000\n",
            "Epoch 12/100\n",
            "66/66 [==============================] - 0s 2ms/step - loss: 149.0802 - mae: 149.0802 - mse: 96500.3047 - val_loss: 1479.9100 - val_mae: 1479.9100 - val_mse: 3964704.2500\n",
            "Epoch 13/100\n",
            "34/66 [==============>...............] - ETA: 0s - loss: 159.1224 - mae: 159.1224 - mse: 107574.1172INFO:tensorflow:Assets written to: model_experiments/model_1_dense/assets\n",
            "66/66 [==============================] - 1s 9ms/step - loss: 149.4527 - mae: 149.4527 - mse: 95986.7891 - val_loss: 1182.8547 - val_mae: 1182.8547 - val_mse: 2967135.5000\n",
            "Epoch 14/100\n",
            "66/66 [==============================] - 0s 2ms/step - loss: 144.5909 - mae: 144.5909 - mse: 91657.3828 - val_loss: 1234.6947 - val_mae: 1234.6947 - val_mse: 3030608.2500\n",
            "Epoch 15/100\n",
            "66/66 [==============================] - 0s 2ms/step - loss: 155.9859 - mae: 155.9859 - mse: 97242.1641 - val_loss: 1188.1984 - val_mae: 1188.1984 - val_mse: 2908571.0000\n",
            "Epoch 16/100\n",
            "40/66 [=================>............] - ETA: 0s - loss: 139.9429 - mae: 139.9429 - mse: 92767.8750INFO:tensorflow:Assets written to: model_experiments/model_1_dense/assets\n",
            "66/66 [==============================] - 1s 11ms/step - loss: 141.1484 - mae: 141.1484 - mse: 88179.5859 - val_loss: 1168.7943 - val_mae: 1168.7943 - val_mse: 2866546.5000\n",
            "Epoch 17/100\n",
            "66/66 [==============================] - 0s 2ms/step - loss: 147.6360 - mae: 147.6360 - mse: 95259.0938 - val_loss: 1613.6010 - val_mae: 1613.6010 - val_mse: 4933109.5000\n",
            "Epoch 18/100\n",
            "66/66 [==============================] - 0s 2ms/step - loss: 148.9540 - mae: 148.9540 - mse: 94550.1406 - val_loss: 1428.5446 - val_mae: 1428.5446 - val_mse: 3737378.0000\n",
            "Epoch 19/100\n",
            "66/66 [==============================] - 0s 2ms/step - loss: 146.4098 - mae: 146.4098 - mse: 91857.6953 - val_loss: 1187.4915 - val_mae: 1187.4915 - val_mse: 2893170.5000\n",
            "Epoch 20/100\n",
            "66/66 [==============================] - 0s 2ms/step - loss: 139.2671 - mae: 139.2671 - mse: 86848.3359 - val_loss: 1296.9865 - val_mae: 1296.9865 - val_mse: 3401992.0000\n",
            "Epoch 21/100\n",
            "66/66 [==============================] - 0s 2ms/step - loss: 141.8085 - mae: 141.8085 - mse: 90641.5000 - val_loss: 1185.2322 - val_mae: 1185.2322 - val_mse: 2970695.5000\n",
            "Epoch 22/100\n",
            "66/66 [==============================] - 0s 2ms/step - loss: 140.7389 - mae: 140.7389 - mse: 89395.3906 - val_loss: 1321.8365 - val_mae: 1321.8365 - val_mse: 3501347.0000\n",
            "Epoch 23/100\n",
            "66/66 [==============================] - 0s 2ms/step - loss: 151.2367 - mae: 151.2367 - mse: 95612.3047 - val_loss: 1184.1417 - val_mae: 1184.1417 - val_mse: 2873130.0000\n",
            "Epoch 24/100\n",
            "66/66 [==============================] - 0s 2ms/step - loss: 147.6236 - mae: 147.6236 - mse: 92199.4844 - val_loss: 1226.9769 - val_mae: 1226.9769 - val_mse: 3115515.7500\n",
            "Epoch 25/100\n",
            "66/66 [==============================] - 0s 2ms/step - loss: 143.7932 - mae: 143.7932 - mse: 91439.7812 - val_loss: 1343.1782 - val_mae: 1343.1782 - val_mse: 3591323.0000\n",
            "Epoch 26/100\n",
            "33/66 [==============>...............] - ETA: 0s - loss: 146.0861 - mae: 146.0861 - mse: 104068.1484INFO:tensorflow:Assets written to: model_experiments/model_1_dense/assets\n",
            "66/66 [==============================] - 1s 9ms/step - loss: 143.2415 - mae: 143.2415 - mse: 88959.4453 - val_loss: 1156.3563 - val_mae: 1156.3563 - val_mse: 2859269.5000\n",
            "Epoch 27/100\n",
            "66/66 [==============================] - 0s 2ms/step - loss: 144.1066 - mae: 144.1066 - mse: 88958.1094 - val_loss: 1180.9677 - val_mae: 1180.9677 - val_mse: 2858465.7500\n",
            "Epoch 28/100\n",
            "66/66 [==============================] - 0s 2ms/step - loss: 147.8967 - mae: 147.8967 - mse: 89080.0547 - val_loss: 1161.2925 - val_mae: 1161.2925 - val_mse: 2804549.7500\n",
            "Epoch 29/100\n",
            "66/66 [==============================] - 0s 2ms/step - loss: 140.2127 - mae: 140.2127 - mse: 86703.7969 - val_loss: 1191.4592 - val_mae: 1191.4592 - val_mse: 2973679.0000\n",
            "Epoch 30/100\n",
            "41/66 [=================>............] - ETA: 0s - loss: 138.8941 - mae: 138.8941 - mse: 78478.9062INFO:tensorflow:Assets written to: model_experiments/model_1_dense/assets\n",
            "66/66 [==============================] - 1s 9ms/step - loss: 139.7517 - mae: 139.7517 - mse: 87406.6953 - val_loss: 1129.8401 - val_mae: 1129.8401 - val_mse: 2749012.0000\n",
            "Epoch 31/100\n",
            "39/66 [================>.............] - ETA: 0s - loss: 130.4239 - mae: 130.4239 - mse: 74793.6406 INFO:tensorflow:Assets written to: model_experiments/model_1_dense/assets\n",
            "66/66 [==============================] - 1s 9ms/step - loss: 138.2344 - mae: 138.2344 - mse: 85107.8281 - val_loss: 1126.6637 - val_mae: 1126.6637 - val_mse: 2748175.2500\n",
            "Epoch 32/100\n",
            "66/66 [==============================] - 0s 2ms/step - loss: 147.4787 - mae: 147.4787 - mse: 94258.8047 - val_loss: 1157.5131 - val_mae: 1157.5131 - val_mse: 2798859.5000\n",
            "Epoch 33/100\n",
            "66/66 [==============================] - 0s 2ms/step - loss: 147.5818 - mae: 147.5818 - mse: 89855.8203 - val_loss: 1308.8158 - val_mae: 1308.8158 - val_mse: 3437194.2500\n",
            "Epoch 34/100\n",
            "66/66 [==============================] - 0s 2ms/step - loss: 140.9274 - mae: 140.9274 - mse: 89881.9531 - val_loss: 1134.4976 - val_mae: 1134.4976 - val_mse: 2778223.0000\n",
            "Epoch 35/100\n",
            "66/66 [==============================] - 0s 2ms/step - loss: 148.3304 - mae: 148.3304 - mse: 92180.2891 - val_loss: 1464.6304 - val_mae: 1464.6304 - val_mse: 4150565.5000\n",
            "Epoch 36/100\n",
            "66/66 [==============================] - 0s 2ms/step - loss: 143.4120 - mae: 143.4120 - mse: 86913.6719 - val_loss: 1191.2885 - val_mae: 1191.2885 - val_mse: 2969373.7500\n",
            "Epoch 37/100\n",
            "66/66 [==============================] - 0s 2ms/step - loss: 148.9696 - mae: 148.9696 - mse: 92861.2266 - val_loss: 1166.8894 - val_mae: 1166.8894 - val_mse: 2818943.2500\n",
            "Epoch 38/100\n",
            "66/66 [==============================] - 0s 2ms/step - loss: 138.2853 - mae: 138.2853 - mse: 85546.2422 - val_loss: 1246.6084 - val_mae: 1246.6084 - val_mse: 3179409.2500\n",
            "Epoch 39/100\n",
            "33/66 [==============>...............] - ETA: 0s - loss: 141.5228 - mae: 141.5228 - mse: 94043.5938INFO:tensorflow:Assets written to: model_experiments/model_1_dense/assets\n",
            "66/66 [==============================] - 1s 9ms/step - loss: 137.4132 - mae: 137.4132 - mse: 86238.8516 - val_loss: 1122.3322 - val_mae: 1122.3322 - val_mse: 2720609.5000\n",
            "Epoch 40/100\n",
            "66/66 [==============================] - 0s 2ms/step - loss: 134.7541 - mae: 134.7541 - mse: 83052.3438 - val_loss: 1361.7096 - val_mae: 1361.7096 - val_mse: 3470027.7500\n",
            "Epoch 41/100\n",
            "66/66 [==============================] - 0s 2ms/step - loss: 142.4359 - mae: 142.4359 - mse: 88462.2031 - val_loss: 1124.4111 - val_mae: 1124.4111 - val_mse: 2722925.5000\n",
            "Epoch 42/100\n",
            "66/66 [==============================] - 0s 2ms/step - loss: 142.5076 - mae: 142.5076 - mse: 88224.7812 - val_loss: 1173.2642 - val_mae: 1173.2642 - val_mse: 2836060.2500\n",
            "Epoch 43/100\n",
            "66/66 [==============================] - 0s 2ms/step - loss: 139.3438 - mae: 139.3438 - mse: 85587.3516 - val_loss: 1158.3367 - val_mae: 1158.3367 - val_mse: 2796396.5000\n",
            "Epoch 44/100\n",
            "66/66 [==============================] - 0s 2ms/step - loss: 142.9658 - mae: 142.9658 - mse: 88374.3047 - val_loss: 1137.5939 - val_mae: 1137.5939 - val_mse: 2781038.0000\n",
            "Epoch 45/100\n",
            "66/66 [==============================] - 0s 2ms/step - loss: 154.0140 - mae: 154.0140 - mse: 93948.6016 - val_loss: 1127.7477 - val_mae: 1127.7477 - val_mse: 2745590.0000\n",
            "Epoch 46/100\n",
            "66/66 [==============================] - 0s 2ms/step - loss: 157.7199 - mae: 157.7199 - mse: 99964.1875 - val_loss: 1555.4185 - val_mae: 1555.4185 - val_mse: 4255371.5000\n",
            "Epoch 47/100\n",
            "66/66 [==============================] - 0s 2ms/step - loss: 146.5765 - mae: 146.5765 - mse: 94356.6250 - val_loss: 1154.0229 - val_mae: 1154.0229 - val_mse: 2843026.2500\n",
            "Epoch 48/100\n",
            "66/66 [==============================] - 0s 2ms/step - loss: 140.7810 - mae: 140.7810 - mse: 85695.9453 - val_loss: 1124.2622 - val_mae: 1124.2622 - val_mse: 2729205.0000\n",
            "Epoch 49/100\n",
            "66/66 [==============================] - 0s 2ms/step - loss: 140.0575 - mae: 140.0575 - mse: 84549.1406 - val_loss: 1286.2618 - val_mae: 1286.2618 - val_mse: 3198903.0000\n",
            "Epoch 50/100\n",
            "36/66 [===============>..............] - ETA: 0s - loss: 136.6807 - mae: 136.6807 - mse: 78641.6562INFO:tensorflow:Assets written to: model_experiments/model_1_dense/assets\n",
            "66/66 [==============================] - 1s 9ms/step - loss: 136.9021 - mae: 136.9021 - mse: 83503.6953 - val_loss: 1120.1326 - val_mae: 1120.1326 - val_mse: 2705100.2500\n",
            "Epoch 51/100\n",
            "66/66 [==============================] - 0s 2ms/step - loss: 140.0484 - mae: 140.0484 - mse: 84860.2812 - val_loss: 1186.0411 - val_mae: 1186.0411 - val_mse: 2876411.5000\n",
            "Epoch 52/100\n",
            "66/66 [==============================] - 0s 2ms/step - loss: 141.6028 - mae: 141.6028 - mse: 86223.0938 - val_loss: 1157.9144 - val_mae: 1157.9144 - val_mse: 2796269.7500\n",
            "Epoch 53/100\n",
            "66/66 [==============================] - 0s 2ms/step - loss: 140.9152 - mae: 140.9152 - mse: 86668.2031 - val_loss: 1194.2870 - val_mae: 1194.2870 - val_mse: 2899811.2500\n",
            "Epoch 54/100\n",
            "66/66 [==============================] - 0s 2ms/step - loss: 151.3664 - mae: 151.3664 - mse: 95546.9844 - val_loss: 1490.5485 - val_mae: 1490.5485 - val_mse: 4261088.5000\n",
            "Epoch 55/100\n",
            "66/66 [==============================] - 0s 2ms/step - loss: 138.3682 - mae: 138.3682 - mse: 83955.2031 - val_loss: 1318.1255 - val_mae: 1318.1255 - val_mse: 3313668.5000\n",
            "Epoch 56/100\n",
            "66/66 [==============================] - 0s 2ms/step - loss: 139.6573 - mae: 139.6573 - mse: 87279.4766 - val_loss: 1283.2302 - val_mae: 1283.2302 - val_mse: 3194411.5000\n",
            "Epoch 57/100\n",
            "66/66 [==============================] - 0s 2ms/step - loss: 143.2782 - mae: 143.2782 - mse: 88200.5391 - val_loss: 1203.9366 - val_mae: 1203.9366 - val_mse: 3010827.5000\n",
            "Epoch 58/100\n",
            "66/66 [==============================] - 0s 2ms/step - loss: 142.9816 - mae: 142.9816 - mse: 88704.0234 - val_loss: 1120.6765 - val_mae: 1120.6765 - val_mse: 2703552.2500\n",
            "Epoch 59/100\n",
            "66/66 [==============================] - 0s 2ms/step - loss: 135.2622 - mae: 135.2622 - mse: 82673.3750 - val_loss: 1130.4232 - val_mae: 1130.4232 - val_mse: 2724759.7500\n",
            "Epoch 60/100\n",
            "66/66 [==============================] - 0s 2ms/step - loss: 135.3782 - mae: 135.3782 - mse: 83370.2188 - val_loss: 1312.5526 - val_mae: 1312.5526 - val_mse: 3297068.5000\n",
            "Epoch 61/100\n",
            "66/66 [==============================] - 0s 2ms/step - loss: 147.5458 - mae: 147.5458 - mse: 90926.0078 - val_loss: 1410.1752 - val_mae: 1410.1752 - val_mse: 3882960.7500\n",
            "Epoch 62/100\n",
            "66/66 [==============================] - 0s 2ms/step - loss: 140.5233 - mae: 140.5233 - mse: 88526.1641 - val_loss: 1120.9834 - val_mae: 1120.9834 - val_mse: 2703880.2500\n",
            "Epoch 63/100\n",
            "66/66 [==============================] - 0s 2ms/step - loss: 143.6751 - mae: 143.6751 - mse: 87465.2188 - val_loss: 1123.3895 - val_mae: 1123.3895 - val_mse: 2705023.7500\n",
            "Epoch 64/100\n",
            "66/66 [==============================] - 0s 2ms/step - loss: 147.0835 - mae: 147.0835 - mse: 91019.7812 - val_loss: 1121.8773 - val_mae: 1121.8773 - val_mse: 2707796.2500\n",
            "Epoch 65/100\n",
            "66/66 [==============================] - 0s 2ms/step - loss: 140.0453 - mae: 140.0453 - mse: 84910.5312 - val_loss: 1219.7561 - val_mae: 1219.7561 - val_mse: 3071150.2500\n",
            "Epoch 66/100\n",
            "66/66 [==============================] - 0s 2ms/step - loss: 136.5157 - mae: 136.5157 - mse: 83911.0078 - val_loss: 1153.3813 - val_mae: 1153.3813 - val_mse: 2817966.7500\n",
            "Epoch 67/100\n",
            "66/66 [==============================] - 0s 2ms/step - loss: 138.9147 - mae: 138.9147 - mse: 85627.2188 - val_loss: 1148.0049 - val_mae: 1148.0049 - val_mse: 2764737.7500\n",
            "Epoch 68/100\n",
            "66/66 [==============================] - 0s 2ms/step - loss: 142.7593 - mae: 142.7593 - mse: 85643.7031 - val_loss: 1502.1478 - val_mae: 1502.1478 - val_mse: 4305277.5000\n",
            "Epoch 69/100\n",
            "66/66 [==============================] - 0s 2ms/step - loss: 151.6510 - mae: 151.6510 - mse: 91810.1328 - val_loss: 1215.5706 - val_mae: 1215.5706 - val_mse: 2967392.5000\n",
            "Epoch 70/100\n",
            "66/66 [==============================] - 0s 2ms/step - loss: 147.4765 - mae: 147.4765 - mse: 90602.2812 - val_loss: 1123.3973 - val_mae: 1123.3973 - val_mse: 2703776.5000\n",
            "Epoch 71/100\n",
            "66/66 [==============================] - 0s 2ms/step - loss: 142.3002 - mae: 142.3002 - mse: 88090.0312 - val_loss: 1139.0244 - val_mae: 1139.0244 - val_mse: 2770221.0000\n",
            "Epoch 72/100\n",
            "42/66 [==================>...........] - ETA: 0s - loss: 139.9557 - mae: 139.9557 - mse: 92557.9844INFO:tensorflow:Assets written to: model_experiments/model_1_dense/assets\n",
            "66/66 [==============================] - 1s 9ms/step - loss: 133.9219 - mae: 133.9219 - mse: 82961.6016 - val_loss: 1119.9523 - val_mae: 1119.9523 - val_mse: 2690541.7500\n",
            "Epoch 73/100\n",
            "66/66 [==============================] - 0s 2ms/step - loss: 144.1584 - mae: 144.1584 - mse: 85157.9766 - val_loss: 1126.5494 - val_mae: 1126.5494 - val_mse: 2719951.0000\n",
            "Epoch 74/100\n",
            "66/66 [==============================] - 0s 2ms/step - loss: 138.8595 - mae: 138.8595 - mse: 84907.2891 - val_loss: 1203.2225 - val_mae: 1203.2225 - val_mse: 2933237.0000\n",
            "Epoch 75/100\n",
            "66/66 [==============================] - 0s 2ms/step - loss: 143.9069 - mae: 143.9069 - mse: 90363.9688 - val_loss: 1348.5491 - val_mae: 1348.5491 - val_mse: 3598831.2500\n",
            "Epoch 76/100\n",
            "66/66 [==============================] - 0s 2ms/step - loss: 143.6619 - mae: 143.6619 - mse: 88475.0312 - val_loss: 1177.4764 - val_mae: 1177.4764 - val_mse: 2904386.2500\n",
            "Epoch 77/100\n",
            "66/66 [==============================] - 0s 2ms/step - loss: 139.4680 - mae: 139.4680 - mse: 85106.0078 - val_loss: 1191.2433 - val_mae: 1191.2433 - val_mse: 2955824.7500\n",
            "Epoch 78/100\n",
            "66/66 [==============================] - 0s 2ms/step - loss: 135.8452 - mae: 135.8452 - mse: 84848.5859 - val_loss: 1231.4784 - val_mae: 1231.4784 - val_mse: 3112471.7500\n",
            "Epoch 79/100\n",
            "66/66 [==============================] - 0s 2ms/step - loss: 139.1485 - mae: 139.1485 - mse: 86258.1641 - val_loss: 1150.8534 - val_mae: 1150.8534 - val_mse: 2768019.0000\n",
            "Epoch 80/100\n",
            "66/66 [==============================] - 0s 2ms/step - loss: 139.9973 - mae: 139.9973 - mse: 87157.3906 - val_loss: 1191.9027 - val_mae: 1191.9027 - val_mse: 2892011.7500\n",
            "Epoch 81/100\n",
            "66/66 [==============================] - 0s 2ms/step - loss: 145.4006 - mae: 145.4006 - mse: 88394.5391 - val_loss: 1136.5646 - val_mae: 1136.5646 - val_mse: 2732645.7500\n",
            "Epoch 82/100\n",
            "66/66 [==============================] - 0s 2ms/step - loss: 144.5020 - mae: 144.5020 - mse: 87140.4375 - val_loss: 1147.0249 - val_mae: 1147.0249 - val_mse: 2759725.7500\n",
            "Epoch 83/100\n",
            "66/66 [==============================] - 0s 2ms/step - loss: 133.6785 - mae: 133.6785 - mse: 81098.4453 - val_loss: 1160.2407 - val_mae: 1160.2407 - val_mse: 2843840.0000\n",
            "Epoch 84/100\n",
            "66/66 [==============================] - 0s 2ms/step - loss: 134.6486 - mae: 134.6486 - mse: 82117.1719 - val_loss: 1193.6488 - val_mae: 1193.6488 - val_mse: 2970039.5000\n",
            "Epoch 85/100\n",
            "66/66 [==============================] - 0s 2ms/step - loss: 136.4506 - mae: 136.4506 - mse: 81312.2969 - val_loss: 1148.3629 - val_mae: 1148.3629 - val_mse: 2765441.7500\n",
            "Epoch 86/100\n",
            "66/66 [==============================] - 0s 2ms/step - loss: 144.8030 - mae: 144.8030 - mse: 85784.4609 - val_loss: 1412.9564 - val_mae: 1412.9564 - val_mse: 3887857.0000\n",
            "Epoch 87/100\n",
            "39/66 [================>.............] - ETA: 0s - loss: 140.8690 - mae: 140.8690 - mse: 76463.6172INFO:tensorflow:Assets written to: model_experiments/model_1_dense/assets\n",
            "66/66 [==============================] - 1s 9ms/step - loss: 143.8570 - mae: 143.8570 - mse: 87236.7031 - val_loss: 1117.8384 - val_mae: 1117.8384 - val_mse: 2683906.0000\n",
            "Epoch 88/100\n",
            "66/66 [==============================] - 0s 2ms/step - loss: 137.1955 - mae: 137.1955 - mse: 84334.6562 - val_loss: 1130.1420 - val_mae: 1130.1420 - val_mse: 2737228.2500\n",
            "Epoch 89/100\n",
            "66/66 [==============================] - 0s 2ms/step - loss: 138.0040 - mae: 138.0040 - mse: 84416.3516 - val_loss: 1343.6217 - val_mae: 1343.6217 - val_mse: 3413137.7500\n",
            "Epoch 90/100\n",
            "66/66 [==============================] - 0s 2ms/step - loss: 142.9769 - mae: 142.9769 - mse: 89811.6406 - val_loss: 1137.5145 - val_mae: 1137.5145 - val_mse: 2733712.7500\n",
            "Epoch 91/100\n",
            "40/66 [=================>............] - ETA: 0s - loss: 145.0622 - mae: 145.0622 - mse: 97509.9141INFO:tensorflow:Assets written to: model_experiments/model_1_dense/assets\n",
            "66/66 [==============================] - 1s 9ms/step - loss: 137.9774 - mae: 137.9774 - mse: 85982.7344 - val_loss: 1116.3684 - val_mae: 1116.3684 - val_mse: 2675905.0000\n",
            "Epoch 92/100\n",
            "66/66 [==============================] - 0s 2ms/step - loss: 133.0464 - mae: 133.0464 - mse: 81802.6172 - val_loss: 1131.8004 - val_mae: 1131.8004 - val_mse: 2740381.7500\n",
            "Epoch 93/100\n",
            "66/66 [==============================] - 0s 2ms/step - loss: 135.5088 - mae: 135.5088 - mse: 83736.2812 - val_loss: 1125.1030 - val_mae: 1125.1030 - val_mse: 2714224.2500\n",
            "Epoch 94/100\n",
            "66/66 [==============================] - 0s 2ms/step - loss: 134.8406 - mae: 134.8406 - mse: 83361.7109 - val_loss: 1122.8357 - val_mae: 1122.8357 - val_mse: 2704553.2500\n",
            "Epoch 95/100\n",
            "66/66 [==============================] - 0s 2ms/step - loss: 135.0825 - mae: 135.0825 - mse: 82695.2734 - val_loss: 1119.5195 - val_mae: 1119.5195 - val_mse: 2684176.0000\n",
            "Epoch 96/100\n",
            "66/66 [==============================] - 0s 2ms/step - loss: 140.3352 - mae: 140.3352 - mse: 86852.7656 - val_loss: 1125.4320 - val_mae: 1125.4320 - val_mse: 2695399.0000\n",
            "Epoch 97/100\n",
            "66/66 [==============================] - 0s 2ms/step - loss: 134.9235 - mae: 134.9235 - mse: 83225.9609 - val_loss: 1361.3857 - val_mae: 1361.3857 - val_mse: 3661233.2500\n",
            "Epoch 98/100\n",
            "66/66 [==============================] - 0s 2ms/step - loss: 140.9505 - mae: 140.9505 - mse: 87141.2422 - val_loss: 1204.1366 - val_mae: 1204.1366 - val_mse: 3009996.5000\n",
            "Epoch 99/100\n",
            "66/66 [==============================] - 0s 2ms/step - loss: 139.4613 - mae: 139.4613 - mse: 83106.6641 - val_loss: 1153.0717 - val_mae: 1153.0717 - val_mse: 2817265.2500\n",
            "Epoch 100/100\n",
            "66/66 [==============================] - 0s 2ms/step - loss: 133.7453 - mae: 133.7453 - mse: 80657.9688 - val_loss: 1116.9980 - val_mae: 1116.9980 - val_mse: 2676970.7500\n"
          ]
        },
        {
          "output_type": "execute_result",
          "data": {
            "text/plain": [
              "<keras.callbacks.History at 0x7fd30b851110>"
            ]
          },
          "metadata": {},
          "execution_count": 44
        }
      ]
    },
    {
      "cell_type": "code",
      "source": [
        "# evaluate model on test data\n",
        "model_1.evaluate(test_windows, test_labels)"
      ],
      "metadata": {
        "colab": {
          "base_uri": "https://localhost:8080/"
        },
        "id": "UnWc9H6cJAC3",
        "outputId": "db95fb89-395c-4e8e-9a8e-4ee9ff4f7e74"
      },
      "execution_count": 45,
      "outputs": [
        {
          "output_type": "stream",
          "name": "stdout",
          "text": [
            "17/17 [==============================] - 0s 1ms/step - loss: 1116.9980 - mae: 1116.9980 - mse: 2676970.7500\n"
          ]
        },
        {
          "output_type": "execute_result",
          "data": {
            "text/plain": [
              "[1116.998046875, 1116.998046875, 2676970.75]"
            ]
          },
          "metadata": {},
          "execution_count": 45
        }
      ]
    },
    {
      "cell_type": "markdown",
      "source": [
        "MSE is usally a lot higher than MAE because it has got the squaring factor in there that is square the errors"
      ],
      "metadata": {
        "id": "aYnJZ86YJ7wD"
      }
    },
    {
      "cell_type": "code",
      "source": [
        "# Load in the best performing model_1 and evaluate it on test data\n",
        "model_1 = tf.keras.models.load_model(\"/content/model_experiments/model_1_dense/\")\n",
        "model_1.evaluate(test_windows, test_labels)"
      ],
      "metadata": {
        "colab": {
          "base_uri": "https://localhost:8080/"
        },
        "id": "h9s6LoddKP0z",
        "outputId": "31d142dd-bfa4-4bda-d60b-71f2da5c58b2"
      },
      "execution_count": 46,
      "outputs": [
        {
          "output_type": "stream",
          "name": "stdout",
          "text": [
            "17/17 [==============================] - 0s 1ms/step - loss: 1116.3684 - mae: 1116.3684 - mse: 2675905.0000\n"
          ]
        },
        {
          "output_type": "execute_result",
          "data": {
            "text/plain": [
              "[1116.368408203125, 1116.368408203125, 2675905.0]"
            ]
          },
          "metadata": {},
          "execution_count": 46
        }
      ]
    },
    {
      "cell_type": "markdown",
      "source": [
        "## Making forecast with a model(on the test dataset)\n",
        "\n",
        "Steps:\n",
        "\n",
        "1. Take a train model\n",
        "2. Takes in some input data(same kind of data the model is trained on)\n",
        "3. Passes the input data to model's `predict()` method\n",
        "4. Returns the predictions"
      ],
      "metadata": {
        "id": "GhbnIJHpKzJf"
      }
    },
    {
      "cell_type": "code",
      "source": [
        "def make_preds(model, input_data):\n",
        "  \"\"\"\n",
        "  Uses model to make predictions input_data.\n",
        "  \"\"\"\n",
        "  forecast = model.predict(input_data)\n",
        "  return tf.squeeze(forecast) # retyrn 1d array of predictions"
      ],
      "metadata": {
        "id": "RE8pP7r1L3Dm"
      },
      "execution_count": 47,
      "outputs": []
    },
    {
      "cell_type": "code",
      "source": [
        "# Make predictions using model_1 on the test dataset and view results\n",
        "model_1_preds = make_preds(model_1, test_windows)\n",
        "len(model_1_preds), model_1_preds[:10]"
      ],
      "metadata": {
        "colab": {
          "base_uri": "https://localhost:8080/"
        },
        "id": "iISHSKlDMXbJ",
        "outputId": "69df9fa8-4d58-42a5-e5f5-47b7678ac381"
      },
      "execution_count": 48,
      "outputs": [
        {
          "output_type": "execute_result",
          "data": {
            "text/plain": [
              "(524, <tf.Tensor: shape=(10,), dtype=float32, numpy=\n",
              " array([11197.032, 11201.688, 11705.156, 11762.62 , 11651.484, 11751.153,\n",
              "        11723.065, 11867.334, 11442.38 , 11539.958], dtype=float32)>)"
            ]
          },
          "metadata": {},
          "execution_count": 48
        }
      ]
    },
    {
      "cell_type": "code",
      "source": [
        "# evaluate preds\n",
        "model_1_results = evaluate_preds(y_true=tf.squeeze(test_labels),\n",
        "                                 y_pred=model_1_preds)\n",
        "model_1_results"
      ],
      "metadata": {
        "colab": {
          "base_uri": "https://localhost:8080/"
        },
        "id": "tnqGv2WVM-jM",
        "outputId": "3522647f-e19d-41da-bab2-fd9005fb3320"
      },
      "execution_count": 49,
      "outputs": [
        {
          "output_type": "execute_result",
          "data": {
            "text/plain": [
              "{'mae': 1116.3685, 'mape': 2.8272014, 'mse': 2675905.0, 'rmse': 1635.8193}"
            ]
          },
          "metadata": {},
          "execution_count": 49
        }
      ]
    },
    {
      "cell_type": "code",
      "source": [
        "naive_results"
      ],
      "metadata": {
        "colab": {
          "base_uri": "https://localhost:8080/"
        },
        "id": "cDZ_tgSzNV-J",
        "outputId": "baef57da-7824-4c54-f4df-3affc604d4bd"
      },
      "execution_count": 50,
      "outputs": [
        {
          "output_type": "execute_result",
          "data": {
            "text/plain": [
              "{'mae': 1112.547989736641,\n",
              " 'mape': 2.822934133016182,\n",
              " 'mse': 2676604.3201613766,\n",
              " 'rmse': 1636.0331048488526}"
            ]
          },
          "metadata": {},
          "execution_count": 50
        }
      ]
    },
    {
      "cell_type": "code",
      "source": [
        "model_1_preds.shape"
      ],
      "metadata": {
        "colab": {
          "base_uri": "https://localhost:8080/"
        },
        "id": "onmd0TgCNf52",
        "outputId": "8e952b7d-bd32-4457-f18f-c28bcfa6be37"
      },
      "execution_count": 51,
      "outputs": [
        {
          "output_type": "execute_result",
          "data": {
            "text/plain": [
              "TensorShape([524])"
            ]
          },
          "metadata": {},
          "execution_count": 51
        }
      ]
    },
    {
      "cell_type": "code",
      "source": [
        "# Lets plot model 1 prediction\n",
        "offset=500\n",
        "plt.figure(figsize=(10,7))\n",
        "plot_time_series(timestamps=X_test[-len(test_windows):],\n",
        "                 values=test_labels[:,0],\n",
        "                 start=offset,\n",
        "                 label=\"test data\")\n",
        "\n",
        "plot_time_series(timestamps=X_test[-len(test_windows):],\n",
        "                 values=model_1_preds,\n",
        "                 start=offset,\n",
        "                 format=\"-\",\n",
        "                 label=\"model_1_preds\")"
      ],
      "metadata": {
        "colab": {
          "base_uri": "https://localhost:8080/",
          "height": 442
        },
        "id": "0fXo3GSVNj5f",
        "outputId": "1a27cfae-8e23-4cb8-b052-34d2933d1739"
      },
      "execution_count": 52,
      "outputs": [
        {
          "output_type": "display_data",
          "data": {
            "image/png": "[encoded data removed]",
            "text/plain": [
              "<Figure size 720x504 with 1 Axes>"
            ]
          },
          "metadata": {
            "needs_background": "light"
          }
        }
      ]
    },
    {
      "cell_type": "markdown",
      "source": [
        "## Model 2: Dense(window=30, horizon=1)"
      ],
      "metadata": {
        "id": "fzAA6udy443q"
      }
    },
    {
      "cell_type": "code",
      "source": [
        "HORIZON = 1 # Predict one step at a time\n",
        "WINDOW_SIZE = 30 # use 30 timestamps in past\n"
      ],
      "metadata": {
        "id": "zN0aHU_JBnLh"
      },
      "execution_count": 53,
      "outputs": []
    },
    {
      "cell_type": "code",
      "source": [
        "# Make windows data with appropriate horizon and window sizes\n",
        "full_windows, full_labels = make_windows(prices, window_size=WINDOW_SIZE, horizon=HORIZON)\n",
        "len(full_windows), len(full_labels)"
      ],
      "metadata": {
        "colab": {
          "base_uri": "https://localhost:8080/"
        },
        "id": "DUuo-6maCPWm",
        "outputId": "2dfbec9d-1883-4741-e9b4-9077030cff33"
      },
      "execution_count": 54,
      "outputs": [
        {
          "output_type": "execute_result",
          "data": {
            "text/plain": [
              "(2595, 2595)"
            ]
          },
          "metadata": {},
          "execution_count": 54
        }
      ]
    },
    {
      "cell_type": "code",
      "source": [
        "# make train test splits\n",
        "train_windows, test_windows, train_labels, test_labels = make_train_test_splits(windows=full_windows,\n",
        "                                                                                labels=full_labels,\n",
        "                                                                                test_split=0.2)\n",
        "len(train_windows), len(test_windows), len(train_labels), len(test_labels)"
      ],
      "metadata": {
        "colab": {
          "base_uri": "https://localhost:8080/"
        },
        "id": "uNymAaYHE6X7",
        "outputId": "68b9ac11-b0a1-4d24-cd88-a316a461e9e6"
      },
      "execution_count": 55,
      "outputs": [
        {
          "output_type": "execute_result",
          "data": {
            "text/plain": [
              "(2076, 519, 2076, 519)"
            ]
          },
          "metadata": {},
          "execution_count": 55
        }
      ]
    },
    {
      "cell_type": "code",
      "source": [
        "tf.random.set_seed(42)\n",
        "\n",
        "# Create model\n",
        "model_2 = tf.keras.Sequential([\n",
        "                               layers.Dense(128, activation=\"relu\"),\n",
        "                               layers.Dense(HORIZON),\n",
        "], name=\"model_2_dense\")\n",
        "\n",
        "# Compile\n",
        "model_2.compile(loss=\"mae\",\n",
        "                optimizer=tf.keras.optimizers.Adam())\n",
        "\n",
        "# Fit\n",
        "model_2.fit(train_windows,\n",
        "            train_labels,\n",
        "            epochs=100,\n",
        "            batch_size=128,\n",
        "            verbose=0,\n",
        "            validation_data=(test_windows, test_labels),\n",
        "            callbacks=[create_model_checkpoint(model_name=model_2.name)])"
      ],
      "metadata": {
        "colab": {
          "base_uri": "https://localhost:8080/"
        },
        "id": "27qREP35Gt4a",
        "outputId": "97271956-e804-4da5-bfd4-33fd2b26487a"
      },
      "execution_count": 56,
      "outputs": [
        {
          "output_type": "stream",
          "name": "stdout",
          "text": [
            "INFO:tensorflow:Assets written to: model_experiments/model_2_dense/assets\n",
            "INFO:tensorflow:Assets written to: model_experiments/model_2_dense/assets\n",
            "INFO:tensorflow:Assets written to: model_experiments/model_2_dense/assets\n",
            "INFO:tensorflow:Assets written to: model_experiments/model_2_dense/assets\n",
            "INFO:tensorflow:Assets written to: model_experiments/model_2_dense/assets\n",
            "INFO:tensorflow:Assets written to: model_experiments/model_2_dense/assets\n",
            "INFO:tensorflow:Assets written to: model_experiments/model_2_dense/assets\n",
            "INFO:tensorflow:Assets written to: model_experiments/model_2_dense/assets\n",
            "INFO:tensorflow:Assets written to: model_experiments/model_2_dense/assets\n",
            "INFO:tensorflow:Assets written to: model_experiments/model_2_dense/assets\n",
            "INFO:tensorflow:Assets written to: model_experiments/model_2_dense/assets\n",
            "INFO:tensorflow:Assets written to: model_experiments/model_2_dense/assets\n",
            "INFO:tensorflow:Assets written to: model_experiments/model_2_dense/assets\n",
            "INFO:tensorflow:Assets written to: model_experiments/model_2_dense/assets\n",
            "INFO:tensorflow:Assets written to: model_experiments/model_2_dense/assets\n",
            "INFO:tensorflow:Assets written to: model_experiments/model_2_dense/assets\n",
            "INFO:tensorflow:Assets written to: model_experiments/model_2_dense/assets\n",
            "INFO:tensorflow:Assets written to: model_experiments/model_2_dense/assets\n",
            "INFO:tensorflow:Assets written to: model_experiments/model_2_dense/assets\n",
            "INFO:tensorflow:Assets written to: model_experiments/model_2_dense/assets\n",
            "INFO:tensorflow:Assets written to: model_experiments/model_2_dense/assets\n",
            "INFO:tensorflow:Assets written to: model_experiments/model_2_dense/assets\n",
            "INFO:tensorflow:Assets written to: model_experiments/model_2_dense/assets\n",
            "INFO:tensorflow:Assets written to: model_experiments/model_2_dense/assets\n",
            "INFO:tensorflow:Assets written to: model_experiments/model_2_dense/assets\n",
            "INFO:tensorflow:Assets written to: model_experiments/model_2_dense/assets\n",
            "INFO:tensorflow:Assets written to: model_experiments/model_2_dense/assets\n",
            "INFO:tensorflow:Assets written to: model_experiments/model_2_dense/assets\n",
            "INFO:tensorflow:Assets written to: model_experiments/model_2_dense/assets\n",
            "INFO:tensorflow:Assets written to: model_experiments/model_2_dense/assets\n",
            "INFO:tensorflow:Assets written to: model_experiments/model_2_dense/assets\n",
            "INFO:tensorflow:Assets written to: model_experiments/model_2_dense/assets\n"
          ]
        },
        {
          "output_type": "execute_result",
          "data": {
            "text/plain": [
              "<keras.callbacks.History at 0x7fd30b716c50>"
            ]
          },
          "metadata": {},
          "execution_count": 56
        }
      ]
    },
    {
      "cell_type": "code",
      "source": [
        "model_2.evaluate(test_windows, test_labels )"
      ],
      "metadata": {
        "colab": {
          "base_uri": "https://localhost:8080/"
        },
        "id": "jeMydZKN_--W",
        "outputId": "d4fc2685-496d-4bb0-e650-6bc45a408c1d"
      },
      "execution_count": 57,
      "outputs": [
        {
          "output_type": "stream",
          "name": "stdout",
          "text": [
            "17/17 [==============================] - 0s 1ms/step - loss: 1194.7294\n"
          ]
        },
        {
          "output_type": "execute_result",
          "data": {
            "text/plain": [
              "1194.7293701171875"
            ]
          },
          "metadata": {},
          "execution_count": 57
        }
      ]
    },
    {
      "cell_type": "code",
      "source": [
        "# Load and evaluate on best performing model\n",
        "model_2 = tf.keras.models.load_model(\"/content/model_experiments/model_2_dense\")\n",
        "model_2.evaluate(test_windows, test_labels)"
      ],
      "metadata": {
        "colab": {
          "base_uri": "https://localhost:8080/"
        },
        "id": "ZZMutJswAwMe",
        "outputId": "156377d7-6097-45e8-92b3-f7472af526ba"
      },
      "execution_count": 58,
      "outputs": [
        {
          "output_type": "stream",
          "name": "stdout",
          "text": [
            "17/17 [==============================] - 0s 1ms/step - loss: 1191.1052\n"
          ]
        },
        {
          "output_type": "execute_result",
          "data": {
            "text/plain": [
              "1191.105224609375"
            ]
          },
          "metadata": {},
          "execution_count": 58
        }
      ]
    },
    {
      "cell_type": "code",
      "source": [
        "# Make predictions\n",
        "model_2_preds = make_preds(model_2, test_windows)\n"
      ],
      "metadata": {
        "id": "S2_trG-3BFTA"
      },
      "execution_count": 59,
      "outputs": []
    },
    {
      "cell_type": "code",
      "source": [
        "model_2_results = evaluate_preds(y_true=tf.squeeze(test_labels),\n",
        "                                 y_pred=model_2_preds)\n",
        "model_2_results"
      ],
      "metadata": {
        "colab": {
          "base_uri": "https://localhost:8080/"
        },
        "id": "hy_CD-O4BZC6",
        "outputId": "8342a8c4-5460-4039-cdbc-b47f5386d57d"
      },
      "execution_count": 60,
      "outputs": [
        {
          "output_type": "execute_result",
          "data": {
            "text/plain": [
              "{'mae': 1191.1051, 'mape': 3.003334, 'mse': 2955999.0, 'rmse': 1719.3019}"
            ]
          },
          "metadata": {},
          "execution_count": 60
        }
      ]
    },
    {
      "cell_type": "code",
      "source": [
        "offset= 400\n",
        "plt.figure(figsize=(10,7))\n",
        "plot_time_series(timestamps=X_test[-len(test_windows):], values=test_labels[:,0], start=offset, label=\"Test Data\")\n",
        "plot_time_series(timestamps=X_test[-len(test_windows):], values=model_2_preds, start=offset, format=\"-\", label=\"model_2_preds\")"
      ],
      "metadata": {
        "colab": {
          "base_uri": "https://localhost:8080/",
          "height": 442
        },
        "id": "xfRJGC9IBvkK",
        "outputId": "17218f09-3011-4bef-ee0a-1d1f9fdde475"
      },
      "execution_count": 61,
      "outputs": [
        {
          "output_type": "display_data",
          "data": {
            "image/png": "[encoded data removed]",
            "text/plain": [
              "<Figure size 720x504 with 1 Axes>"
            ]
          },
          "metadata": {
            "needs_background": "light"
          }
        }
      ]
    },
    {
      "cell_type": "markdown",
      "source": [
        "## Model 3: Dense(window=30, horizon=7)"
      ],
      "metadata": {
        "id": "cueXd8WGCo3d"
      }
    },
    {
      "cell_type": "code",
      "source": [
        "HORIZON = 7 # predict 7 steps at a time\n",
        "WINDOW = 30 # Use 30 tiemstamps in past"
      ],
      "metadata": {
        "id": "E2Q-7Ok9EDEK"
      },
      "execution_count": 62,
      "outputs": []
    },
    {
      "cell_type": "code",
      "source": [
        "# Make windows data with appropriate horison and window sizes\n",
        "full_windows, full_labels = make_windows(prices, window_size=WINDOW_SIZE, horizon=HORIZON)\n",
        "len(full_windows), len(full_labels)"
      ],
      "metadata": {
        "colab": {
          "base_uri": "https://localhost:8080/"
        },
        "id": "6hVfpTEKEPPH",
        "outputId": "4ed09e75-b0eb-4e2d-db0f-b7403a809ba3"
      },
      "execution_count": 63,
      "outputs": [
        {
          "output_type": "execute_result",
          "data": {
            "text/plain": [
              "(2589, 2589)"
            ]
          },
          "metadata": {},
          "execution_count": 63
        }
      ]
    },
    {
      "cell_type": "code",
      "source": [
        "# Train test splits\n",
        "train_windows, test_windows, train_labels, test_labels = make_train_test_splits(full_windows, full_labels,0.2)\n",
        "len(train_windows), len(test_windows), len(train_labels), len(test_labels)"
      ],
      "metadata": {
        "colab": {
          "base_uri": "https://localhost:8080/"
        },
        "id": "VVQSJqzGEtla",
        "outputId": "8b5f078f-e40e-4ec9-d59f-6b075f48ec03"
      },
      "execution_count": 64,
      "outputs": [
        {
          "output_type": "execute_result",
          "data": {
            "text/plain": [
              "(2071, 518, 2071, 518)"
            ]
          },
          "metadata": {},
          "execution_count": 64
        }
      ]
    },
    {
      "cell_type": "code",
      "source": [
        "tf.random.set_seed(42)\n",
        "\n",
        "# Create model\n",
        "model_3 = tf.keras.Sequential([\n",
        "         layers.Dense(128,activation=\"relu\"),\n",
        "         layers.Dense(HORIZON)            \n",
        "], name=\"model_3_dense\")\n",
        "\n",
        "# Compile\n",
        "model_3.compile(loss=\"mae\",\n",
        "                optimizer=tf.keras.optimizers.Adam())\n",
        "\n",
        "# Fit\n",
        "model_3.fit(train_windows,\n",
        "            train_labels,\n",
        "            epochs=100,\n",
        "            batch_size=128, \n",
        "            verbose=0,\n",
        "            validation_data=(test_windows, test_labels),\n",
        "            callbacks=[create_model_checkpoint(model_name=model_3.name)])"
      ],
      "metadata": {
        "colab": {
          "base_uri": "https://localhost:8080/"
        },
        "id": "2dy8mj4bGCh9",
        "outputId": "74716b10-5623-4bc4-82b5-71c85a5cf7d1"
      },
      "execution_count": 65,
      "outputs": [
        {
          "output_type": "stream",
          "name": "stdout",
          "text": [
            "INFO:tensorflow:Assets written to: model_experiments/model_3_dense/assets\n",
            "INFO:tensorflow:Assets written to: model_experiments/model_3_dense/assets\n",
            "INFO:tensorflow:Assets written to: model_experiments/model_3_dense/assets\n",
            "INFO:tensorflow:Assets written to: model_experiments/model_3_dense/assets\n",
            "INFO:tensorflow:Assets written to: model_experiments/model_3_dense/assets\n",
            "INFO:tensorflow:Assets written to: model_experiments/model_3_dense/assets\n",
            "INFO:tensorflow:Assets written to: model_experiments/model_3_dense/assets\n",
            "INFO:tensorflow:Assets written to: model_experiments/model_3_dense/assets\n",
            "INFO:tensorflow:Assets written to: model_experiments/model_3_dense/assets\n",
            "INFO:tensorflow:Assets written to: model_experiments/model_3_dense/assets\n",
            "INFO:tensorflow:Assets written to: model_experiments/model_3_dense/assets\n",
            "INFO:tensorflow:Assets written to: model_experiments/model_3_dense/assets\n",
            "INFO:tensorflow:Assets written to: model_experiments/model_3_dense/assets\n",
            "INFO:tensorflow:Assets written to: model_experiments/model_3_dense/assets\n",
            "INFO:tensorflow:Assets written to: model_experiments/model_3_dense/assets\n",
            "INFO:tensorflow:Assets written to: model_experiments/model_3_dense/assets\n",
            "INFO:tensorflow:Assets written to: model_experiments/model_3_dense/assets\n",
            "INFO:tensorflow:Assets written to: model_experiments/model_3_dense/assets\n",
            "INFO:tensorflow:Assets written to: model_experiments/model_3_dense/assets\n",
            "INFO:tensorflow:Assets written to: model_experiments/model_3_dense/assets\n",
            "INFO:tensorflow:Assets written to: model_experiments/model_3_dense/assets\n",
            "INFO:tensorflow:Assets written to: model_experiments/model_3_dense/assets\n",
            "INFO:tensorflow:Assets written to: model_experiments/model_3_dense/assets\n",
            "INFO:tensorflow:Assets written to: model_experiments/model_3_dense/assets\n",
            "INFO:tensorflow:Assets written to: model_experiments/model_3_dense/assets\n",
            "INFO:tensorflow:Assets written to: model_experiments/model_3_dense/assets\n",
            "INFO:tensorflow:Assets written to: model_experiments/model_3_dense/assets\n",
            "INFO:tensorflow:Assets written to: model_experiments/model_3_dense/assets\n",
            "INFO:tensorflow:Assets written to: model_experiments/model_3_dense/assets\n",
            "INFO:tensorflow:Assets written to: model_experiments/model_3_dense/assets\n",
            "INFO:tensorflow:Assets written to: model_experiments/model_3_dense/assets\n",
            "INFO:tensorflow:Assets written to: model_experiments/model_3_dense/assets\n",
            "INFO:tensorflow:Assets written to: model_experiments/model_3_dense/assets\n",
            "INFO:tensorflow:Assets written to: model_experiments/model_3_dense/assets\n"
          ]
        },
        {
          "output_type": "execute_result",
          "data": {
            "text/plain": [
              "<keras.callbacks.History at 0x7fd30acdeb50>"
            ]
          },
          "metadata": {},
          "execution_count": 65
        }
      ]
    },
    {
      "cell_type": "code",
      "source": [
        "model_3.evaluate(test_windows, test_labels)"
      ],
      "metadata": {
        "colab": {
          "base_uri": "https://localhost:8080/"
        },
        "id": "cgprULDTH9Li",
        "outputId": "026dc296-e3dd-45fa-909d-24caf02ed582"
      },
      "execution_count": 66,
      "outputs": [
        {
          "output_type": "stream",
          "name": "stdout",
          "text": [
            "17/17 [==============================] - 0s 1ms/step - loss: 2404.2107\n"
          ]
        },
        {
          "output_type": "execute_result",
          "data": {
            "text/plain": [
              "2404.210693359375"
            ]
          },
          "metadata": {},
          "execution_count": 66
        }
      ]
    },
    {
      "cell_type": "code",
      "source": [
        "# Loading and evaluation the best model\n",
        "model_3 = tf.keras.models.load_model(\"/content/model_experiments/model_3_dense\")\n",
        "model_3.evaluate(test_windows, test_labels)"
      ],
      "metadata": {
        "colab": {
          "base_uri": "https://localhost:8080/"
        },
        "id": "2UOp2lifIS1K",
        "outputId": "87110fa5-adde-418a-c5de-b72d8d3483af"
      },
      "execution_count": 67,
      "outputs": [
        {
          "output_type": "stream",
          "name": "stdout",
          "text": [
            "17/17 [==============================] - 0s 1ms/step - loss: 2358.1794\n"
          ]
        },
        {
          "output_type": "execute_result",
          "data": {
            "text/plain": [
              "2358.179443359375"
            ]
          },
          "metadata": {},
          "execution_count": 67
        }
      ]
    },
    {
      "cell_type": "code",
      "source": [
        "# predictions\n",
        "model_3_preds = make_preds(model_3,test_windows)"
      ],
      "metadata": {
        "id": "RvdNNC9SIqdK"
      },
      "execution_count": 68,
      "outputs": []
    },
    {
      "cell_type": "code",
      "source": [
        "(tf.squeeze(test_labels)).shape, (tf.squeeze(model_3_preds)).shape"
      ],
      "metadata": {
        "colab": {
          "base_uri": "https://localhost:8080/"
        },
        "id": "JDccOQsHJ4xH",
        "outputId": "c584b8d4-af6b-46f7-bf24-6281ee5f040b"
      },
      "execution_count": 69,
      "outputs": [
        {
          "output_type": "execute_result",
          "data": {
            "text/plain": [
              "(TensorShape([518, 7]), TensorShape([518, 7]))"
            ]
          },
          "metadata": {},
          "execution_count": 69
        }
      ]
    },
    {
      "cell_type": "code",
      "source": [
        "model_3_results = evaluate_preds(y_true=tf.squeeze(test_labels),y_pred= tf.squeeze(model_3_preds))\n",
        "model_3_results"
      ],
      "metadata": {
        "colab": {
          "base_uri": "https://localhost:8080/"
        },
        "id": "pvPZE3R8JBvT",
        "outputId": "f73f22a5-9d8b-46ba-dfeb-b52cd84080dc"
      },
      "execution_count": 70,
      "outputs": [
        {
          "output_type": "execute_result",
          "data": {
            "text/plain": [
              "{'mae': 2358.1794, 'mape': 5.9577384, 'mse': 11636976.0, 'rmse': 2703.2874}"
            ]
          },
          "metadata": {},
          "execution_count": 70
        }
      ]
    },
    {
      "cell_type": "code",
      "source": [
        "# Plot to compare the results\n",
        "offset = 400\n",
        "plt.figure(figsize=(10,7))\n",
        "\n",
        "plot_time_series(timestamps=X_test[-len(test_windows):], values=test_labels[:,0], format=\"-\",start=offset, label=\"Test Data\")\n",
        "plot_time_series(timestamps=X_test[-len(test_windows):], values=model_3_preds, start=offset,  label=\"model_3_preds\")"
      ],
      "metadata": {
        "colab": {
          "base_uri": "https://localhost:8080/",
          "height": 442
        },
        "id": "EFaTzRKkJTI5",
        "outputId": "c783ccb6-4582-47b3-f7c4-2a406d482186"
      },
      "execution_count": 71,
      "outputs": [
        {
          "output_type": "display_data",
          "data": {
            "image/png": "[encoded data removed]",
            "text/plain": [
              "<Figure size 720x504 with 1 Axes>"
            ]
          },
          "metadata": {
            "needs_background": "light"
          }
        }
      ]
    },
    {
      "cell_type": "code",
      "source": [
        "offset = 400\n",
        "plt.figure(figsize=(10,7))\n",
        "\n",
        "plot_time_series(timestamps=X_test[-len(test_windows):], values=test_labels[:,0],start=offset, label=\"Test Data\")\n",
        "plot_time_series(timestamps=X_test[-len(test_windows):], values=tf.reduce_mean(model_3_preds, axis=1), format=\"-\",start=offset,  label=\"model_3_preds\")"
      ],
      "metadata": {
        "colab": {
          "base_uri": "https://localhost:8080/",
          "height": 442
        },
        "id": "5Lqn8xGQMHAu",
        "outputId": "21b379f7-a8c5-4932-f7a5-f2e085225a84"
      },
      "execution_count": 72,
      "outputs": [
        {
          "output_type": "display_data",
          "data": {
            "image/png": "[encoded data removed]",
            "text/plain": [
              "<Figure size 720x504 with 1 Axes>"
            ]
          },
          "metadata": {
            "needs_background": "light"
          }
        }
      ]
    },
    {
      "cell_type": "markdown",
      "source": [
        "## Which of our models is performing the best so far ?\n"
      ],
      "metadata": {
        "id": "q7e73PfYM0le"
      }
    },
    {
      "cell_type": "code",
      "source": [
        "pd.DataFrame({\"naive\": naive_results,\n",
        "              \"horizon_1_window_7\": model_1_results,\n",
        "              \"horizon_1_window_30\": model_2_results,\n",
        "              \"horizon_7_window_30\": model_3_results}, index=[\"mae\"]).plot(figsize=(10,7), kind=\"bar\");"
      ],
      "metadata": {
        "colab": {
          "base_uri": "https://localhost:8080/",
          "height": 440
        },
        "id": "J3q5LybgNenD",
        "outputId": "8d3393f0-989e-460a-d94c-1f998fa3657d"
      },
      "execution_count": 73,
      "outputs": [
        {
          "output_type": "display_data",
          "data": {
            "image/png": "[encoded data removed]",
            "text/plain": [
              "<Figure size 720x504 with 1 Axes>"
            ]
          },
          "metadata": {
            "needs_background": "light"
          }
        }
      ]
    },
    {
      "cell_type": "markdown",
      "source": [
        "## Model 4: Conv1D"
      ],
      "metadata": {
        "id": "g9L5pZCPOVuF"
      }
    },
    {
      "cell_type": "code",
      "source": [
        "HORIZON = 1 # predict nect day of bitcoin prices\n",
        "WINDOW_SIZE = 7 # use previous week worth data\n"
      ],
      "metadata": {
        "id": "oQRfI1cQxEUK"
      },
      "execution_count": 74,
      "outputs": []
    },
    {
      "cell_type": "code",
      "source": [
        "# Create windowed data\n",
        "full_windows, full_labels = make_windows(prices, window_size=WINDOW_SIZE, horizon=HORIZON )\n",
        "len(full_windows), len(full_labels)"
      ],
      "metadata": {
        "colab": {
          "base_uri": "https://localhost:8080/"
        },
        "id": "DJznhWXcxRUy",
        "outputId": "e8b6f49a-a06e-4677-fbcb-e7f8682afcb0"
      },
      "execution_count": 75,
      "outputs": [
        {
          "output_type": "execute_result",
          "data": {
            "text/plain": [
              "(2618, 2618)"
            ]
          },
          "metadata": {},
          "execution_count": 75
        }
      ]
    },
    {
      "cell_type": "code",
      "source": [
        "# Create train and test sets \n",
        "train_windows, test_windows, train_labels, test_labels = make_train_test_splits(full_windows, \n",
        "                                                                                full_labels,\n",
        "                                                                                test_split=0.2)\n",
        "len(train_windows), len(test_windows), len(train_labels), len(test_labels)"
      ],
      "metadata": {
        "colab": {
          "base_uri": "https://localhost:8080/"
        },
        "id": "BdErCf5Oxp7b",
        "outputId": "225ef727-e9b3-463c-a714-71be215d05f5"
      },
      "execution_count": 76,
      "outputs": [
        {
          "output_type": "execute_result",
          "data": {
            "text/plain": [
              "(2094, 524, 2094, 524)"
            ]
          },
          "metadata": {},
          "execution_count": 76
        }
      ]
    },
    {
      "cell_type": "code",
      "source": [
        ""
      ],
      "metadata": {
        "id": "nIzC0g5QjvLu"
      },
      "execution_count": null,
      "outputs": []
    }
  ]
}